{
  "nbformat": 4,
  "nbformat_minor": 0,
  "metadata": {
    "colab": {
      "provenance": [],
      "include_colab_link": true
    },
    "kernelspec": {
      "name": "python3",
      "display_name": "Python 3"
    },
    "language_info": {
      "name": "python"
    }
  },
  "cells": [
    {
      "cell_type": "markdown",
      "metadata": {
        "id": "view-in-github",
        "colab_type": "text"
      },
      "source": [
        "<a href=\"https://colab.research.google.com/github/PvrpleJade/AIDA-2/blob/main/Lab2.ipynb\" target=\"_parent\"><img src=\"https://colab.research.google.com/assets/colab-badge.svg\" alt=\"Open In Colab\"/></a>"
      ]
    },
    {
      "cell_type": "code",
      "execution_count": null,
      "metadata": {
        "id": "JEYrD3ZLPJHN"
      },
      "outputs": [],
      "source": [
        "import pandas as pd\n",
        "import numpy as np\n",
        "import scipy.stats as stats\n",
        "import matplotlib.pyplot as plt\n",
        "import seaborn as sns\n"
      ]
    },
    {
      "cell_type": "markdown",
      "source": [
        "### 1.1.3 Mode\n",
        "The mode is simply the numerical element that appears more frequently in a collection."
      ],
      "metadata": {
        "id": "4hpYQGd-PRqC"
      }
    },
    {
      "cell_type": "markdown",
      "source": [
        "In the given set of data: 2, 4, 5, 5, 6, 7, the mode of the data set is _______ since it has appeared in the set twice."
      ],
      "metadata": {
        "id": "eat_tL7uPeCA"
      }
    },
    {
      "cell_type": "code",
      "source": [
        "from scipy import stats\n",
        "\n",
        "data = [2,4,5,5,6,7]\n",
        "pdata = stats.mode(data)\n",
        "\n",
        "print(pdata)"
      ],
      "metadata": {
        "colab": {
          "base_uri": "https://localhost:8080/"
        },
        "id": "5GaHIXLbPaIw",
        "outputId": "a152d555-1bcf-45be-b2be-3be89df55332"
      },
      "execution_count": null,
      "outputs": [
        {
          "output_type": "stream",
          "name": "stdout",
          "text": [
            "ModeResult(mode=array([5]), count=array([2]))\n"
          ]
        }
      ]
    },
    {
      "cell_type": "code",
      "source": [
        "group3_scores = sorted([90,88,89,90,90,88,88,15,90,])\n",
        "stats.mode(group3_scores)"
      ],
      "metadata": {
        "colab": {
          "base_uri": "https://localhost:8080/"
        },
        "id": "_En0cunoPi64",
        "outputId": "4d955639-413e-4f5f-a300-f6d8bae100d8"
      },
      "execution_count": null,
      "outputs": [
        {
          "output_type": "execute_result",
          "data": {
            "text/plain": [
              "ModeResult(mode=array([90]), count=array([4]))"
            ]
          },
          "metadata": {},
          "execution_count": 3
        }
      ]
    },
    {
      "cell_type": "markdown",
      "source": [
        "### 1.2.1 Variance\n",
        "The variance of a dataset is a measure of dispersion. The variance can be interpreted as the ratio of the Euclidean distance of each data point from the mean to its size. It can be represented as:\n",
        "$$var = \\sigma^2 = \\frac{\\sum^M_{i=0}(x_i-\\mu)^2}{M}$$"
      ],
      "metadata": {
        "id": "MDR-V1hxPsGx"
      }
    },
    {
      "cell_type": "markdown",
      "source": [
        "Find the variance and standard deviation of the following scores on an exam:\n",
        "92, 95, 85, 80, 75, 50"
      ],
      "metadata": {
        "id": "OeB2P7SIPvQ-"
      }
    },
    {
      "cell_type": "markdown",
      "source": [
        "#### 1.2.2 Standard Deviation\n",
        "Stadard deviation indicates the absolute variability of dispersion about the mean, it is the square root of the variance. It can be computed as:\n",
        "$$std.dev = \\sigma = \\sqrt{\\frac{\\sum^M_{i=0}(x_i-\\mu)^2}{M}}$$\n",
        "\n",
        "The example below demonstrates the sensitivity of the variance to the data points"
      ],
      "metadata": {
        "id": "SNO9X7rkP1a8"
      }
    },
    {
      "cell_type": "code",
      "source": [
        "##Code for Standard deviation\n",
        "import statistics\n",
        "examscores = np.array([92,95,85,80,75,50])\n",
        "examtotal = np.sum(examscores)\n",
        "scoresmean = examtotal/6\n",
        "variance = statistics.variance(examscores)\n",
        "st_dev = statistics.pstdev(examscores)\n",
        "\n",
        "print(\"The Standard Deviation is :\", st_dev)\n",
        "print(\"The variance is :\", variance)"
      ],
      "metadata": {
        "colab": {
          "base_uri": "https://localhost:8080/"
        },
        "id": "lELStR9EPshA",
        "outputId": "36ba59f0-956c-4bb3-8dbb-f7bf05b7a1d3"
      },
      "execution_count": null,
      "outputs": [
        {
          "output_type": "stream",
          "name": "stdout",
          "text": [
            "The Standard Deviation is : 14.798648586948742\n",
            "The variance is : 263\n"
          ]
        }
      ]
    },
    {
      "cell_type": "code",
      "source": [],
      "metadata": {
        "id": "GKxlAbzMPzcq"
      },
      "execution_count": null,
      "outputs": []
    }
  ]
}