{
  "nbformat": 4,
  "nbformat_minor": 0,
  "metadata": {
    "colab": {
      "provenance": [],
      "authorship_tag": "ABX9TyOjP3HJKtkKyi/iEItzZ3gH",
      "include_colab_link": true
    },
    "kernelspec": {
      "name": "python3",
      "display_name": "Python 3"
    },
    "language_info": {
      "name": "python"
    }
  },
  "cells": [
    {
      "cell_type": "markdown",
      "metadata": {
        "id": "view-in-github",
        "colab_type": "text"
      },
      "source": [
        "<a href=\"https://colab.research.google.com/github/PvrpleJade/AIDA-2/blob/main/Midterm_Exam_(Santos%2C_Franz).ipynb\" target=\"_parent\"><img src=\"https://colab.research.google.com/assets/colab-badge.svg\" alt=\"Open In Colab\"/></a>"
      ]
    },
    {
      "cell_type": "markdown",
      "source": [
        "#Santos, Franz Nico\n",
        "#201813672"
      ],
      "metadata": {
        "id": "Z9ITJnTzvO6b"
      }
    },
    {
      "cell_type": "code",
      "execution_count": 8,
      "metadata": {
        "id": "fbDlx2DhnA1M"
      },
      "outputs": [],
      "source": [
        "import numpy as np\n",
        "import pandas as pd\n",
        "import matplotlib.pyplot as plt\n",
        "import seaborn as sns\n",
        "import math"
      ]
    },
    {
      "cell_type": "markdown",
      "source": [
        "#NUMBER 1"
      ],
      "metadata": {
        "id": "G2CPOUphrCKd"
      }
    },
    {
      "cell_type": "code",
      "source": [
        "data = pd.read_excel('/content/midt.xlsx')\n",
        "data"
      ],
      "metadata": {
        "colab": {
          "base_uri": "https://localhost:8080/",
          "height": 238
        },
        "id": "HKlY7aSDqg6H",
        "outputId": "b63650ff-1a07-4317-c649-e870c32531b8"
      },
      "execution_count": 10,
      "outputs": [
        {
          "output_type": "execute_result",
          "data": {
            "text/plain": [
              "    X   Y\n",
              "0  10  68\n",
              "1  15  60\n",
              "2  20  55\n",
              "3  25  48\n",
              "4  30  38\n",
              "5  35  32"
            ],
            "text/html": [
              "\n",
              "  <div id=\"df-94e267d1-337d-4f35-8dcc-606f1009e134\">\n",
              "    <div class=\"colab-df-container\">\n",
              "      <div>\n",
              "<style scoped>\n",
              "    .dataframe tbody tr th:only-of-type {\n",
              "        vertical-align: middle;\n",
              "    }\n",
              "\n",
              "    .dataframe tbody tr th {\n",
              "        vertical-align: top;\n",
              "    }\n",
              "\n",
              "    .dataframe thead th {\n",
              "        text-align: right;\n",
              "    }\n",
              "</style>\n",
              "<table border=\"1\" class=\"dataframe\">\n",
              "  <thead>\n",
              "    <tr style=\"text-align: right;\">\n",
              "      <th></th>\n",
              "      <th>X</th>\n",
              "      <th>Y</th>\n",
              "    </tr>\n",
              "  </thead>\n",
              "  <tbody>\n",
              "    <tr>\n",
              "      <th>0</th>\n",
              "      <td>10</td>\n",
              "      <td>68</td>\n",
              "    </tr>\n",
              "    <tr>\n",
              "      <th>1</th>\n",
              "      <td>15</td>\n",
              "      <td>60</td>\n",
              "    </tr>\n",
              "    <tr>\n",
              "      <th>2</th>\n",
              "      <td>20</td>\n",
              "      <td>55</td>\n",
              "    </tr>\n",
              "    <tr>\n",
              "      <th>3</th>\n",
              "      <td>25</td>\n",
              "      <td>48</td>\n",
              "    </tr>\n",
              "    <tr>\n",
              "      <th>4</th>\n",
              "      <td>30</td>\n",
              "      <td>38</td>\n",
              "    </tr>\n",
              "    <tr>\n",
              "      <th>5</th>\n",
              "      <td>35</td>\n",
              "      <td>32</td>\n",
              "    </tr>\n",
              "  </tbody>\n",
              "</table>\n",
              "</div>\n",
              "      <button class=\"colab-df-convert\" onclick=\"convertToInteractive('df-94e267d1-337d-4f35-8dcc-606f1009e134')\"\n",
              "              title=\"Convert this dataframe to an interactive table.\"\n",
              "              style=\"display:none;\">\n",
              "        \n",
              "  <svg xmlns=\"http://www.w3.org/2000/svg\" height=\"24px\"viewBox=\"0 0 24 24\"\n",
              "       width=\"24px\">\n",
              "    <path d=\"M0 0h24v24H0V0z\" fill=\"none\"/>\n",
              "    <path d=\"M18.56 5.44l.94 2.06.94-2.06 2.06-.94-2.06-.94-.94-2.06-.94 2.06-2.06.94zm-11 1L8.5 8.5l.94-2.06 2.06-.94-2.06-.94L8.5 2.5l-.94 2.06-2.06.94zm10 10l.94 2.06.94-2.06 2.06-.94-2.06-.94-.94-2.06-.94 2.06-2.06.94z\"/><path d=\"M17.41 7.96l-1.37-1.37c-.4-.4-.92-.59-1.43-.59-.52 0-1.04.2-1.43.59L10.3 9.45l-7.72 7.72c-.78.78-.78 2.05 0 2.83L4 21.41c.39.39.9.59 1.41.59.51 0 1.02-.2 1.41-.59l7.78-7.78 2.81-2.81c.8-.78.8-2.07 0-2.86zM5.41 20L4 18.59l7.72-7.72 1.47 1.35L5.41 20z\"/>\n",
              "  </svg>\n",
              "      </button>\n",
              "      \n",
              "  <style>\n",
              "    .colab-df-container {\n",
              "      display:flex;\n",
              "      flex-wrap:wrap;\n",
              "      gap: 12px;\n",
              "    }\n",
              "\n",
              "    .colab-df-convert {\n",
              "      background-color: #E8F0FE;\n",
              "      border: none;\n",
              "      border-radius: 50%;\n",
              "      cursor: pointer;\n",
              "      display: none;\n",
              "      fill: #1967D2;\n",
              "      height: 32px;\n",
              "      padding: 0 0 0 0;\n",
              "      width: 32px;\n",
              "    }\n",
              "\n",
              "    .colab-df-convert:hover {\n",
              "      background-color: #E2EBFA;\n",
              "      box-shadow: 0px 1px 2px rgba(60, 64, 67, 0.3), 0px 1px 3px 1px rgba(60, 64, 67, 0.15);\n",
              "      fill: #174EA6;\n",
              "    }\n",
              "\n",
              "    [theme=dark] .colab-df-convert {\n",
              "      background-color: #3B4455;\n",
              "      fill: #D2E3FC;\n",
              "    }\n",
              "\n",
              "    [theme=dark] .colab-df-convert:hover {\n",
              "      background-color: #434B5C;\n",
              "      box-shadow: 0px 1px 3px 1px rgba(0, 0, 0, 0.15);\n",
              "      filter: drop-shadow(0px 1px 2px rgba(0, 0, 0, 0.3));\n",
              "      fill: #FFFFFF;\n",
              "    }\n",
              "  </style>\n",
              "\n",
              "      <script>\n",
              "        const buttonEl =\n",
              "          document.querySelector('#df-94e267d1-337d-4f35-8dcc-606f1009e134 button.colab-df-convert');\n",
              "        buttonEl.style.display =\n",
              "          google.colab.kernel.accessAllowed ? 'block' : 'none';\n",
              "\n",
              "        async function convertToInteractive(key) {\n",
              "          const element = document.querySelector('#df-94e267d1-337d-4f35-8dcc-606f1009e134');\n",
              "          const dataTable =\n",
              "            await google.colab.kernel.invokeFunction('convertToInteractive',\n",
              "                                                     [key], {});\n",
              "          if (!dataTable) return;\n",
              "\n",
              "          const docLinkHtml = 'Like what you see? Visit the ' +\n",
              "            '<a target=\"_blank\" href=https://colab.research.google.com/notebooks/data_table.ipynb>data table notebook</a>'\n",
              "            + ' to learn more about interactive tables.';\n",
              "          element.innerHTML = '';\n",
              "          dataTable['output_type'] = 'display_data';\n",
              "          await google.colab.output.renderOutput(dataTable, element);\n",
              "          const docLink = document.createElement('div');\n",
              "          docLink.innerHTML = docLinkHtml;\n",
              "          element.appendChild(docLink);\n",
              "        }\n",
              "      </script>\n",
              "    </div>\n",
              "  </div>\n",
              "  "
            ]
          },
          "metadata": {},
          "execution_count": 10
        }
      ]
    },
    {
      "cell_type": "code",
      "source": [
        "print(data.shape)\n",
        "print(data.head())"
      ],
      "metadata": {
        "colab": {
          "base_uri": "https://localhost:8080/"
        },
        "id": "uCsQ1LNXq1ke",
        "outputId": "acf71e00-7f02-45a8-916b-c211fa68110a"
      },
      "execution_count": 11,
      "outputs": [
        {
          "output_type": "stream",
          "name": "stdout",
          "text": [
            "(6, 2)\n",
            "    X   Y\n",
            "0  10  68\n",
            "1  15  60\n",
            "2  20  55\n",
            "3  25  48\n",
            "4  30  38\n"
          ]
        }
      ]
    },
    {
      "cell_type": "code",
      "source": [
        "X = data['X'].values\n",
        "Y = data['Y'].values"
      ],
      "metadata": {
        "id": "uAzXtx_6rERM"
      },
      "execution_count": 12,
      "outputs": []
    },
    {
      "cell_type": "code",
      "source": [
        "mean_x = np.mean(X)\n",
        "mean_y = np.mean(Y)\n",
        "n = len(X)"
      ],
      "metadata": {
        "id": "skBppw3prLaE"
      },
      "execution_count": 13,
      "outputs": []
    },
    {
      "cell_type": "code",
      "source": [
        "numer = 0\n",
        "denom = 0\n",
        "for i in range(n):\n",
        "  numer += (X[i] - mean_x) * (Y[i] - mean_y)\n",
        "  denom += (X[i] - mean_x) ** 2\n",
        "m = numer / denom\n",
        "c = mean_y - (m * mean_x)\n",
        "print(\"Coefficients\")\n",
        "print(m, c)\n",
        "\n",
        " "
      ],
      "metadata": {
        "colab": {
          "base_uri": "https://localhost:8080/"
        },
        "id": "Qrw31NL1rQ3s",
        "outputId": "da87c764-675c-4d35-c9f0-d11689431b81"
      },
      "execution_count": 14,
      "outputs": [
        {
          "output_type": "stream",
          "name": "stdout",
          "text": [
            "Coefficients\n",
            "-1.4457142857142857 82.6952380952381\n"
          ]
        }
      ]
    },
    {
      "cell_type": "code",
      "source": [
        "max_x = np.max(X) + 100\n",
        "min_x = np.min(X) - 100\n",
        "x = np.linspace(min_x, max_x, 1000)\n",
        "y = c + m * x\n",
        "plt.plot(x, y, color='#58b970', label='Regression Line')\n",
        "plt.scatter(X, Y, c='#ef5423', label='Scatter Plot')\n",
        " \n",
        "plt.xlabel('Head Size in cm3')\n",
        "plt.ylabel('Brain Weight in grams')\n",
        "plt.legend()\n",
        "plt.show()"
      ],
      "metadata": {
        "colab": {
          "base_uri": "https://localhost:8080/",
          "height": 279
        },
        "id": "yy39PkH9rZhE",
        "outputId": "9b89f438-b7d2-4731-9322-9c770257606c"
      },
      "execution_count": 15,
      "outputs": [
        {
          "output_type": "display_data",
          "data": {
            "text/plain": [
              "<Figure size 432x288 with 1 Axes>"
            ],
            "image/png": "[encoded data removed]"
          },
          "metadata": {
            "needs_background": "light"
          }
        }
      ]
    },
    {
      "cell_type": "code",
      "source": [
        "rmse = 0\n",
        "for i in range(n):\n",
        "    y_pred = c + m * X[i]\n",
        "    rmse += (Y[i] - y_pred) ** 2\n",
        "rmse = np.sqrt(rmse/n)\n",
        "print(\"RMSE\")\n",
        "print(rmse)\n"
      ],
      "metadata": {
        "colab": {
          "base_uri": "https://localhost:8080/"
        },
        "id": "YqwSbYcSrhl0",
        "outputId": "f574d596-0b91-46f1-e647-00725d046734"
      },
      "execution_count": 16,
      "outputs": [
        {
          "output_type": "stream",
          "name": "stdout",
          "text": [
            "RMSE\n",
            "1.0343313153150058\n"
          ]
        }
      ]
    },
    {
      "cell_type": "code",
      "source": [
        "ss_tot = 0\n",
        "ss_res = 0\n",
        "for i in range(n):\n",
        "    y_pred = c + m * X[i]\n",
        "    ss_tot += (Y[i] - mean_y) ** 2\n",
        "    ss_res += (Y[i] - y_pred) ** 2\n",
        "r2 = 1 - (ss_res/ss_tot)\n",
        "print(\"R2 Score\")\n",
        "print(r2)"
      ],
      "metadata": {
        "colab": {
          "base_uri": "https://localhost:8080/"
        },
        "id": "6ae94o8brncM",
        "outputId": "1918f1cc-acfb-403a-fbfc-e1ca723e35d4"
      },
      "execution_count": 17,
      "outputs": [
        {
          "output_type": "stream",
          "name": "stdout",
          "text": [
            "R2 Score\n",
            "0.9930290885585004\n"
          ]
        }
      ]
    },
    {
      "cell_type": "markdown",
      "source": [
        "#NUMBER 2"
      ],
      "metadata": {
        "id": "wIedlHQ9sSiq"
      }
    },
    {
      "cell_type": "code",
      "source": [
        "n = 8\n",
        "X = 52\n",
        "Y = 225\n",
        "X2 = 380\n",
        "Y2 = 7007\n",
        "\n",
        "Xmean = X/n\n",
        "Ymean = Y/n\n",
        "\n",
        "sumX = X - Xmean\n",
        "sumY = Y - Ymean\n",
        "sumX2 = X2 - Xmean\n",
        "sumY2 = Y2 - Ymean\n",
        "print('Sum of X - Xmean = ',sumX)\n",
        "print('Sum of Y - Ymean = ',sumY)\n",
        "print('Sum of X^2 - Xmean = ',sumX2)\n",
        "print('Sum of Y^2 - Xmean = ',sumY2)"
      ],
      "metadata": {
        "colab": {
          "base_uri": "https://localhost:8080/"
        },
        "id": "F4LHoANEsUAx",
        "outputId": "e494927f-17b1-432d-90e1-37a2d2c0d65f"
      },
      "execution_count": 18,
      "outputs": [
        {
          "output_type": "stream",
          "name": "stdout",
          "text": [
            "Sum of X - Xmean =  45.5\n",
            "Sum of Y - Ymean =  196.875\n",
            "Sum of X^2 - Xmean =  373.5\n",
            "Sum of Y^2 - Xmean =  6978.875\n"
          ]
        }
      ]
    },
    {
      "cell_type": "code",
      "source": [
        "numerator = sumX*sumY\n",
        "denominator = math.sqrt(sumX2*sumY2)\n",
        "\n",
        "r = numerator/denominator\n",
        "\n",
        "print('Product Momennt Correlation Coefficient =',r)"
      ],
      "metadata": {
        "colab": {
          "base_uri": "https://localhost:8080/"
        },
        "id": "hYex2BuxtMFn",
        "outputId": "8af88aa5-3bb9-413e-b627-7e66b00c2e65"
      },
      "execution_count": 19,
      "outputs": [
        {
          "output_type": "stream",
          "name": "stdout",
          "text": [
            "Product Momennt Correlation Coefficient = 5.54835134825082\n"
          ]
        }
      ]
    },
    {
      "cell_type": "code",
      "source": [
        "n = 8\n",
        "X = 52\n",
        "Y = 225\n",
        "X2 = 380\n",
        "Y2 = 7007\n",
        "\n",
        "Xmean = X/n\n",
        "Ymean = Y/n\n",
        "\n",
        "sumX = X - Xmean\n",
        "sumY = Y - Ymean\n",
        "sumX2 = X2 - Xmean\n",
        "sumY2 = Y2 - Ymean\n",
        "print('Sum of X - Xmean = ',sumX)\n",
        "print('Sum of Y - Ymean = ',sumY)\n",
        "print('Sum of X^2 - Xmean = ',sumX2)\n",
        "print('Sum of Y^2 - Xmean = ',sumY2)"
      ],
      "metadata": {
        "colab": {
          "base_uri": "https://localhost:8080/"
        },
        "id": "ozv2C56htceP",
        "outputId": "3529eeb0-5091-4fcb-cd67-e48031b20fb6"
      },
      "execution_count": 20,
      "outputs": [
        {
          "output_type": "stream",
          "name": "stdout",
          "text": [
            "Sum of X - Xmean =  45.5\n",
            "Sum of Y - Ymean =  196.875\n",
            "Sum of X^2 - Xmean =  373.5\n",
            "Sum of Y^2 - Xmean =  6978.875\n"
          ]
        }
      ]
    },
    {
      "cell_type": "markdown",
      "source": [
        "#Number 3"
      ],
      "metadata": {
        "id": "TcFol2YMtn4W"
      }
    },
    {
      "cell_type": "code",
      "source": [
        "n = 6\n",
        "X = 200\n",
        "Y = 436\n",
        "X2 = 7250\n",
        "Y2 = 39234\n",
        "\n",
        "Xmean = X/n\n",
        "Ymean = Y/n\n",
        "\n",
        "sumX = X - Xmean\n",
        "sumY = Y - Ymean\n",
        "sumX2 = X2 - Xmean\n",
        "sumY2 = Y2 - Ymean\n",
        "print('Sum of X - Xmean = ',sumX)\n",
        "print('Sum of Y - Ymean = ',sumY)\n",
        "print('Sum of X^2 - Xmean = ',sumX2)\n",
        "print('Sum of Y^2 - Xmean = ',sumY2)"
      ],
      "metadata": {
        "colab": {
          "base_uri": "https://localhost:8080/"
        },
        "id": "NQGQ8mLItndO",
        "outputId": "3946ce1a-4b12-4f00-c136-a3855f3a6ab0"
      },
      "execution_count": 21,
      "outputs": [
        {
          "output_type": "stream",
          "name": "stdout",
          "text": [
            "Sum of X - Xmean =  166.66666666666666\n",
            "Sum of Y - Ymean =  363.3333333333333\n",
            "Sum of X^2 - Xmean =  7216.666666666667\n",
            "Sum of Y^2 - Xmean =  39161.333333333336\n"
          ]
        }
      ]
    },
    {
      "cell_type": "code",
      "source": [
        "numerator = sumX*sumY\n",
        "denominator = math.sqrt(sumX2*sumY2)\n",
        "\n",
        "r = numerator/denominator\n",
        "\n",
        "print('Product Momennt Correlation Coefficient =',r)"
      ],
      "metadata": {
        "colab": {
          "base_uri": "https://localhost:8080/"
        },
        "id": "emCKGWSvtvXm",
        "outputId": "9c6e3e59-eccf-47c0-c9ed-34e91ba87d71"
      },
      "execution_count": 22,
      "outputs": [
        {
          "output_type": "stream",
          "name": "stdout",
          "text": [
            "Product Momennt Correlation Coefficient = 3.6021097004630254\n"
          ]
        }
      ]
    },
    {
      "cell_type": "markdown",
      "source": [
        "#Number 4"
      ],
      "metadata": {
        "id": "w1ynHBfr0ZYQ"
      }
    },
    {
      "cell_type": "markdown",
      "source": [
        "#A.)"
      ],
      "metadata": {
        "id": "4XFVZpvA0btW"
      }
    },
    {
      "cell_type": "code",
      "source": [
        "def plotter(X,Y):\n",
        "  plt.grid()\n",
        "  return plt.plot(X,Y,\"b.\")\n",
        "  \n",
        "def leastRegLine(X,Y):\n",
        "\t\n",
        "  n = len(X)\n",
        "  sxx = sum(np.multiply(X,X))\n",
        "  sxy = sum(np.multiply(X,Y))\n",
        "\n",
        "  b = (n * sxy - sum(X) * sum(Y))/(n * sxx - sum(X) * sum(X))\n",
        "  meanX = sum(X)/n\n",
        "  meanY = sum(Y)/n\n",
        " \n",
        "  a = meanY - b * meanX\n",
        "  print(\"Regression line:\")\n",
        "  print(\"Y = \", '%.3f'%a, \" + \", '%.3f'%b, \"*X\", sep=\"\")\n",
        "  x = np.linspace(min(X),max(X),100)\n",
        "  y = a + b*x\n",
        "  plt.figure(figsize = (10,8))\n",
        "  plt.plot(X,Y, \"b.\")\n",
        "  plt.plot(x, y, 'r')\n",
        "  plt.xlabel('x')\n",
        "  plt.ylabel('y')\n",
        "  plt.grid()\n",
        "  plt.show()"
      ],
      "metadata": {
        "id": "hJQj9aHB3KX5"
      },
      "execution_count": 40,
      "outputs": []
    },
    {
      "cell_type": "code",
      "source": [
        "plotter([0,10,20,30,40,50,60],[16,27,28,39,39,48,51])"
      ],
      "metadata": {
        "colab": {
          "base_uri": "https://localhost:8080/",
          "height": 283
        },
        "id": "KAjtGI2y0aSG",
        "outputId": "63c71208-1ee1-45f6-a7a3-e5d51d771066"
      },
      "execution_count": 41,
      "outputs": [
        {
          "output_type": "execute_result",
          "data": {
            "text/plain": [
              "[<matplotlib.lines.Line2D at 0x7f9f38664850>]"
            ]
          },
          "metadata": {},
          "execution_count": 41
        },
        {
          "output_type": "display_data",
          "data": {
            "text/plain": [
              "<Figure size 432x288 with 1 Axes>"
            ],
            "image/png": "[encoded data removed]"
          },
          "metadata": {
            "needs_background": "light"
          }
        }
      ]
    },
    {
      "cell_type": "markdown",
      "source": [
        "#B.)"
      ],
      "metadata": {
        "id": "9xj6owRa3Vav"
      }
    },
    {
      "cell_type": "code",
      "source": [
        "leastRegLine([0,10,20,30,40,50,60],[16,27,28,39,39,48,51])\n"
      ],
      "metadata": {
        "colab": {
          "base_uri": "https://localhost:8080/",
          "height": 534
        },
        "id": "dpMJ23wI3W9Y",
        "outputId": "06f39865-195f-4f2d-de9f-c167558ddf3c"
      },
      "execution_count": 35,
      "outputs": [
        {
          "output_type": "stream",
          "name": "stdout",
          "text": [
            "Regression line:\n",
            "Y = 18.500 + 0.564*X\n"
          ]
        },
        {
          "output_type": "display_data",
          "data": {
            "text/plain": [
              "<Figure size 720x576 with 1 Axes>"
            ],
            "image/png": "[encoded data removed]"
          },
          "metadata": {
            "needs_background": "light"
          }
        }
      ]
    },
    {
      "cell_type": "markdown",
      "source": [
        "#C.)"
      ],
      "metadata": {
        "id": "Emdf8LId5CkH"
      }
    },
    {
      "cell_type": "code",
      "source": [],
      "metadata": {
        "id": "iQcyPgJh5FQQ"
      },
      "execution_count": null,
      "outputs": []
    },
    {
      "cell_type": "markdown",
      "source": [
        "#Number 5"
      ],
      "metadata": {
        "id": "go7ysH7b5ZMY"
      }
    },
    {
      "cell_type": "markdown",
      "source": [
        "#A.)"
      ],
      "metadata": {
        "id": "bCI3_EHO6bJg"
      }
    },
    {
      "cell_type": "code",
      "source": [
        "plotter([1.0,1.5,2.0,2.5,3.0,3.5,4.0,4.5],[3.9,4.4,5.8,6.6,7.0,7.1,7.3,7.7])\n",
        "plt.grid()"
      ],
      "metadata": {
        "colab": {
          "base_uri": "https://localhost:8080/",
          "height": 265
        },
        "id": "nuaKC5PG5caI",
        "outputId": "1d382590-29cc-4103-863f-a254aa2364de"
      },
      "execution_count": 36,
      "outputs": [
        {
          "output_type": "display_data",
          "data": {
            "text/plain": [
              "<Figure size 432x288 with 1 Axes>"
            ],
            "image/png": "[encoded data removed]"
          },
          "metadata": {
            "needs_background": "light"
          }
        }
      ]
    },
    {
      "cell_type": "markdown",
      "source": [
        "#B.)"
      ],
      "metadata": {
        "id": "7jnvwGud6dfP"
      }
    },
    {
      "cell_type": "code",
      "source": [
        "leastRegLine([1.0,1.5,2.0,2.5,3.0,3.5,4.0,4.5],[3.9,4.4,5.8,6.6,7.0,7.1,7.3,7.7])"
      ],
      "metadata": {
        "colab": {
          "base_uri": "https://localhost:8080/",
          "height": 534
        },
        "id": "m6qrYmXD6FvA",
        "outputId": "b0a4c180-533f-4c3a-e85f-941433834e67"
      },
      "execution_count": 37,
      "outputs": [
        {
          "output_type": "stream",
          "name": "stdout",
          "text": [
            "Regression line:\n",
            "Y = 3.252 + 1.081*X\n"
          ]
        },
        {
          "output_type": "display_data",
          "data": {
            "text/plain": [
              "<Figure size 720x576 with 1 Axes>"
            ],
            "image/png": "[encoded data removed]"
          },
          "metadata": {
            "needs_background": "light"
          }
        }
      ]
    },
    {
      "cell_type": "markdown",
      "source": [
        "#Number 6"
      ],
      "metadata": {
        "id": "Fp21gnhz6esH"
      }
    },
    {
      "cell_type": "markdown",
      "source": [
        "#A.)"
      ],
      "metadata": {
        "id": "UwjjiK2C6pPw"
      }
    },
    {
      "cell_type": "code",
      "source": [
        "plotter([100,200,300,400,500,600],[228,236,256,278,285,301])"
      ],
      "metadata": {
        "colab": {
          "base_uri": "https://localhost:8080/",
          "height": 283
        },
        "id": "imjrXhrx6l_3",
        "outputId": "e815ccc8-cd1e-4960-bf87-112f86e7638a"
      },
      "execution_count": 43,
      "outputs": [
        {
          "output_type": "execute_result",
          "data": {
            "text/plain": [
              "[<matplotlib.lines.Line2D at 0x7f9f36ded990>]"
            ]
          },
          "metadata": {},
          "execution_count": 43
        },
        {
          "output_type": "display_data",
          "data": {
            "text/plain": [
              "<Figure size 432x288 with 1 Axes>"
            ],
            "image/png": "[encoded data removed]"
          },
          "metadata": {
            "needs_background": "light"
          }
        }
      ]
    },
    {
      "cell_type": "markdown",
      "source": [
        "#B.)"
      ],
      "metadata": {
        "id": "q7nUCXyg65Mo"
      }
    },
    {
      "cell_type": "code",
      "source": [
        "leastRegLine([100,200,300,400,500,600],[228,236,256,278,285,301])"
      ],
      "metadata": {
        "colab": {
          "base_uri": "https://localhost:8080/",
          "height": 534
        },
        "id": "ybFgbnhK66pX",
        "outputId": "a330ae19-4455-44d4-ad9d-505c42ccb71c"
      },
      "execution_count": 42,
      "outputs": [
        {
          "output_type": "stream",
          "name": "stdout",
          "text": [
            "Regression line:\n",
            "Y = 210.600 + 0.153*X\n"
          ]
        },
        {
          "output_type": "display_data",
          "data": {
            "text/plain": [
              "<Figure size 720x576 with 1 Axes>"
            ],
            "image/png": "[encoded data removed]"
          },
          "metadata": {
            "needs_background": "light"
          }
        }
      ]
    },
    {
      "cell_type": "markdown",
      "source": [
        "#Number 7"
      ],
      "metadata": {
        "id": "TD6UbcRg6-Rn"
      }
    },
    {
      "cell_type": "markdown",
      "source": [
        "#A.)"
      ],
      "metadata": {
        "id": "Xyb1imf97AG_"
      }
    },
    {
      "cell_type": "code",
      "source": [
        "plotter([40,10,100,110,120,150,20,90,80,130],[56,62,195,330,94,270,48,196,214,286])"
      ],
      "metadata": {
        "colab": {
          "base_uri": "https://localhost:8080/",
          "height": 283
        },
        "id": "Uhl6dK2Q7BsQ",
        "outputId": "ecf4676d-7dae-48dd-c4bb-044ccaba8b54"
      },
      "execution_count": 44,
      "outputs": [
        {
          "output_type": "execute_result",
          "data": {
            "text/plain": [
              "[<matplotlib.lines.Line2D at 0x7f9f36d62ed0>]"
            ]
          },
          "metadata": {},
          "execution_count": 44
        },
        {
          "output_type": "display_data",
          "data": {
            "text/plain": [
              "<Figure size 432x288 with 1 Axes>"
            ],
            "image/png": "[encoded data removed]"
          },
          "metadata": {
            "needs_background": "light"
          }
        }
      ]
    },
    {
      "cell_type": "markdown",
      "source": [
        "B.)"
      ],
      "metadata": {
        "id": "vdbC1kCE7GjY"
      }
    },
    {
      "cell_type": "code",
      "source": [
        "leastRegLine([40,10,100,110,120,150,20,90,80,130],[56,62,195,330,94,270,48,196,214,286])"
      ],
      "metadata": {
        "colab": {
          "base_uri": "https://localhost:8080/",
          "height": 534
        },
        "id": "SBwo9BYh7EUI",
        "outputId": "a739a012-c02d-4cfc-d441-35b2aa60e30a"
      },
      "execution_count": 45,
      "outputs": [
        {
          "output_type": "stream",
          "name": "stdout",
          "text": [
            "Regression line:\n",
            "Y = 30.264 + 1.704*X\n"
          ]
        },
        {
          "output_type": "display_data",
          "data": {
            "text/plain": [
              "<Figure size 720x576 with 1 Axes>"
            ],
            "image/png": "[encoded data removed]"
          },
          "metadata": {
            "needs_background": "light"
          }
        }
      ]
    },
    {
      "cell_type": "markdown",
      "source": [
        "#Number 8"
      ],
      "metadata": {
        "id": "5hyjvK7t7K3A"
      }
    },
    {
      "cell_type": "markdown",
      "source": [
        "#A.)"
      ],
      "metadata": {
        "id": "_1_i_1NK7MPP"
      }
    },
    {
      "cell_type": "code",
      "source": [
        "plotter([4.3,6.9,0.0,10.4,5.2,1.8,8.0,9.2,2.1],[224,208,123,419,230,184,362,351,196])"
      ],
      "metadata": {
        "colab": {
          "base_uri": "https://localhost:8080/",
          "height": 283
        },
        "id": "Y3hvwMgU7OSH",
        "outputId": "4a71faee-49c8-4348-8b41-405463652bd7"
      },
      "execution_count": 46,
      "outputs": [
        {
          "output_type": "execute_result",
          "data": {
            "text/plain": [
              "[<matplotlib.lines.Line2D at 0x7f9f36cd7450>]"
            ]
          },
          "metadata": {},
          "execution_count": 46
        },
        {
          "output_type": "display_data",
          "data": {
            "text/plain": [
              "<Figure size 432x288 with 1 Axes>"
            ],
            "image/png": "[encoded data removed]"
          },
          "metadata": {
            "needs_background": "light"
          }
        }
      ]
    },
    {
      "cell_type": "markdown",
      "source": [
        "#B.)"
      ],
      "metadata": {
        "id": "1Fv9t2u27RB3"
      }
    },
    {
      "cell_type": "code",
      "source": [
        "leastRegLine([4.3,6.9,0.0,10.4,5.2,1.8,8.0,9.2,2.1],[224,208,123,419,230,184,362,351,196])"
      ],
      "metadata": {
        "colab": {
          "base_uri": "https://localhost:8080/",
          "height": 534
        },
        "id": "mI1j6ljA7TKH",
        "outputId": "d9ade8ea-9314-4204-c9ae-411f8d1d3cba"
      },
      "execution_count": 47,
      "outputs": [
        {
          "output_type": "stream",
          "name": "stdout",
          "text": [
            "Regression line:\n",
            "Y = 120.691 + 25.277*X\n"
          ]
        },
        {
          "output_type": "display_data",
          "data": {
            "text/plain": [
              "<Figure size 720x576 with 1 Axes>"
            ],
            "image/png": "[encoded data removed]"
          },
          "metadata": {
            "needs_background": "light"
          }
        }
      ]
    }
  ]
}