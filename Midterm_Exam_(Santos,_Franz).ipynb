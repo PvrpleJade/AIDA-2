{
  "nbformat": 4,
  "nbformat_minor": 0,
  "metadata": {
    "colab": {
      "provenance": [],
      "authorship_tag": "ABX9TyNxUcP+Lb9EcyH2XI7cXOc9",
      "include_colab_link": true
    },
    "kernelspec": {
      "name": "python3",
      "display_name": "Python 3"
    },
    "language_info": {
      "name": "python"
    }
  },
  "cells": [
    {
      "cell_type": "markdown",
      "metadata": {
        "id": "view-in-github",
        "colab_type": "text"
      },
      "source": [
        "<a href=\"https://colab.research.google.com/github/PvrpleJade/AIDA-2/blob/main/Midterm_Exam_(Santos%2C_Franz).ipynb\" target=\"_parent\"><img src=\"https://colab.research.google.com/assets/colab-badge.svg\" alt=\"Open In Colab\"/></a>"
      ]
    },
    {
      "cell_type": "code",
      "execution_count": 22,
      "metadata": {
        "id": "fbDlx2DhnA1M"
      },
      "outputs": [],
      "source": [
        "import numpy as np\n",
        "import pandas as pd\n",
        "import matplotlib.pyplot as plt\n",
        "import seaborn as sns\n",
        "import math"
      ]
    },
    {
      "cell_type": "markdown",
      "source": [
        "#NUMBER 1"
      ],
      "metadata": {
        "id": "G2CPOUphrCKd"
      }
    },
    {
      "cell_type": "code",
      "source": [
        "data = pd.read_excel('/content/midt.xlsx')\n",
        "data"
      ],
      "metadata": {
        "colab": {
          "base_uri": "https://localhost:8080/",
          "height": 238
        },
        "id": "HKlY7aSDqg6H",
        "outputId": "c247307c-698e-4fab-8665-b460e27558c7"
      },
      "execution_count": 6,
      "outputs": [
        {
          "output_type": "execute_result",
          "data": {
            "text/plain": [
              "    X   Y\n",
              "0  10  68\n",
              "1  15  60\n",
              "2  20  55\n",
              "3  25  48\n",
              "4  30  38\n",
              "5  35  32"
            ],
            "text/html": [
              "\n",
              "  <div id=\"df-88dd9554-b213-4338-b11c-d47072d1b2e6\">\n",
              "    <div class=\"colab-df-container\">\n",
              "      <div>\n",
              "<style scoped>\n",
              "    .dataframe tbody tr th:only-of-type {\n",
              "        vertical-align: middle;\n",
              "    }\n",
              "\n",
              "    .dataframe tbody tr th {\n",
              "        vertical-align: top;\n",
              "    }\n",
              "\n",
              "    .dataframe thead th {\n",
              "        text-align: right;\n",
              "    }\n",
              "</style>\n",
              "<table border=\"1\" class=\"dataframe\">\n",
              "  <thead>\n",
              "    <tr style=\"text-align: right;\">\n",
              "      <th></th>\n",
              "      <th>X</th>\n",
              "      <th>Y</th>\n",
              "    </tr>\n",
              "  </thead>\n",
              "  <tbody>\n",
              "    <tr>\n",
              "      <th>0</th>\n",
              "      <td>10</td>\n",
              "      <td>68</td>\n",
              "    </tr>\n",
              "    <tr>\n",
              "      <th>1</th>\n",
              "      <td>15</td>\n",
              "      <td>60</td>\n",
              "    </tr>\n",
              "    <tr>\n",
              "      <th>2</th>\n",
              "      <td>20</td>\n",
              "      <td>55</td>\n",
              "    </tr>\n",
              "    <tr>\n",
              "      <th>3</th>\n",
              "      <td>25</td>\n",
              "      <td>48</td>\n",
              "    </tr>\n",
              "    <tr>\n",
              "      <th>4</th>\n",
              "      <td>30</td>\n",
              "      <td>38</td>\n",
              "    </tr>\n",
              "    <tr>\n",
              "      <th>5</th>\n",
              "      <td>35</td>\n",
              "      <td>32</td>\n",
              "    </tr>\n",
              "  </tbody>\n",
              "</table>\n",
              "</div>\n",
              "      <button class=\"colab-df-convert\" onclick=\"convertToInteractive('df-88dd9554-b213-4338-b11c-d47072d1b2e6')\"\n",
              "              title=\"Convert this dataframe to an interactive table.\"\n",
              "              style=\"display:none;\">\n",
              "        \n",
              "  <svg xmlns=\"http://www.w3.org/2000/svg\" height=\"24px\"viewBox=\"0 0 24 24\"\n",
              "       width=\"24px\">\n",
              "    <path d=\"M0 0h24v24H0V0z\" fill=\"none\"/>\n",
              "    <path d=\"M18.56 5.44l.94 2.06.94-2.06 2.06-.94-2.06-.94-.94-2.06-.94 2.06-2.06.94zm-11 1L8.5 8.5l.94-2.06 2.06-.94-2.06-.94L8.5 2.5l-.94 2.06-2.06.94zm10 10l.94 2.06.94-2.06 2.06-.94-2.06-.94-.94-2.06-.94 2.06-2.06.94z\"/><path d=\"M17.41 7.96l-1.37-1.37c-.4-.4-.92-.59-1.43-.59-.52 0-1.04.2-1.43.59L10.3 9.45l-7.72 7.72c-.78.78-.78 2.05 0 2.83L4 21.41c.39.39.9.59 1.41.59.51 0 1.02-.2 1.41-.59l7.78-7.78 2.81-2.81c.8-.78.8-2.07 0-2.86zM5.41 20L4 18.59l7.72-7.72 1.47 1.35L5.41 20z\"/>\n",
              "  </svg>\n",
              "      </button>\n",
              "      \n",
              "  <style>\n",
              "    .colab-df-container {\n",
              "      display:flex;\n",
              "      flex-wrap:wrap;\n",
              "      gap: 12px;\n",
              "    }\n",
              "\n",
              "    .colab-df-convert {\n",
              "      background-color: #E8F0FE;\n",
              "      border: none;\n",
              "      border-radius: 50%;\n",
              "      cursor: pointer;\n",
              "      display: none;\n",
              "      fill: #1967D2;\n",
              "      height: 32px;\n",
              "      padding: 0 0 0 0;\n",
              "      width: 32px;\n",
              "    }\n",
              "\n",
              "    .colab-df-convert:hover {\n",
              "      background-color: #E2EBFA;\n",
              "      box-shadow: 0px 1px 2px rgba(60, 64, 67, 0.3), 0px 1px 3px 1px rgba(60, 64, 67, 0.15);\n",
              "      fill: #174EA6;\n",
              "    }\n",
              "\n",
              "    [theme=dark] .colab-df-convert {\n",
              "      background-color: #3B4455;\n",
              "      fill: #D2E3FC;\n",
              "    }\n",
              "\n",
              "    [theme=dark] .colab-df-convert:hover {\n",
              "      background-color: #434B5C;\n",
              "      box-shadow: 0px 1px 3px 1px rgba(0, 0, 0, 0.15);\n",
              "      filter: drop-shadow(0px 1px 2px rgba(0, 0, 0, 0.3));\n",
              "      fill: #FFFFFF;\n",
              "    }\n",
              "  </style>\n",
              "\n",
              "      <script>\n",
              "        const buttonEl =\n",
              "          document.querySelector('#df-88dd9554-b213-4338-b11c-d47072d1b2e6 button.colab-df-convert');\n",
              "        buttonEl.style.display =\n",
              "          google.colab.kernel.accessAllowed ? 'block' : 'none';\n",
              "\n",
              "        async function convertToInteractive(key) {\n",
              "          const element = document.querySelector('#df-88dd9554-b213-4338-b11c-d47072d1b2e6');\n",
              "          const dataTable =\n",
              "            await google.colab.kernel.invokeFunction('convertToInteractive',\n",
              "                                                     [key], {});\n",
              "          if (!dataTable) return;\n",
              "\n",
              "          const docLinkHtml = 'Like what you see? Visit the ' +\n",
              "            '<a target=\"_blank\" href=https://colab.research.google.com/notebooks/data_table.ipynb>data table notebook</a>'\n",
              "            + ' to learn more about interactive tables.';\n",
              "          element.innerHTML = '';\n",
              "          dataTable['output_type'] = 'display_data';\n",
              "          await google.colab.output.renderOutput(dataTable, element);\n",
              "          const docLink = document.createElement('div');\n",
              "          docLink.innerHTML = docLinkHtml;\n",
              "          element.appendChild(docLink);\n",
              "        }\n",
              "      </script>\n",
              "    </div>\n",
              "  </div>\n",
              "  "
            ]
          },
          "metadata": {},
          "execution_count": 6
        }
      ]
    },
    {
      "cell_type": "code",
      "source": [
        "print(data.shape)\n",
        "print(data.head())"
      ],
      "metadata": {
        "colab": {
          "base_uri": "https://localhost:8080/"
        },
        "id": "uCsQ1LNXq1ke",
        "outputId": "6d44c676-b242-4303-9d3a-9c31dc8991c4"
      },
      "execution_count": 9,
      "outputs": [
        {
          "output_type": "stream",
          "name": "stdout",
          "text": [
            "(6, 2)\n",
            "    X   Y\n",
            "0  10  68\n",
            "1  15  60\n",
            "2  20  55\n",
            "3  25  48\n",
            "4  30  38\n"
          ]
        }
      ]
    },
    {
      "cell_type": "code",
      "source": [
        "X = data['X'].values\n",
        "Y = data['Y'].values"
      ],
      "metadata": {
        "id": "uAzXtx_6rERM"
      },
      "execution_count": 10,
      "outputs": []
    },
    {
      "cell_type": "code",
      "source": [
        "mean_x = np.mean(X)\n",
        "mean_y = np.mean(Y)\n",
        "n = len(X)"
      ],
      "metadata": {
        "id": "skBppw3prLaE"
      },
      "execution_count": 11,
      "outputs": []
    },
    {
      "cell_type": "code",
      "source": [
        "numer = 0\n",
        "denom = 0\n",
        "for i in range(n):\n",
        "  numer += (X[i] - mean_x) * (Y[i] - mean_y)\n",
        "  denom += (X[i] - mean_x) ** 2\n",
        "m = numer / denom\n",
        "c = mean_y - (m * mean_x)\n",
        "print(\"Coefficients\")\n",
        "print(m, c)\n",
        " "
      ],
      "metadata": {
        "colab": {
          "base_uri": "https://localhost:8080/"
        },
        "id": "Qrw31NL1rQ3s",
        "outputId": "a93d05e4-d94a-47ec-cece-99788d76117d"
      },
      "execution_count": 13,
      "outputs": [
        {
          "output_type": "stream",
          "name": "stdout",
          "text": [
            "Coefficients\n",
            "-1.4457142857142857 82.6952380952381\n"
          ]
        }
      ]
    },
    {
      "cell_type": "code",
      "source": [
        "max_x = np.max(X) + 100\n",
        "min_x = np.min(X) - 100\n",
        "x = np.linspace(min_x, max_x, 1000)\n",
        "y = c + m * x\n",
        "plt.plot(x, y, color='#58b970', label='Regression Line')\n",
        "plt.scatter(X, Y, c='#ef5423', label='Scatter Plot')\n",
        " \n",
        "plt.xlabel('Head Size in cm3')\n",
        "plt.ylabel('Brain Weight in grams')\n",
        "plt.legend()\n",
        "plt.show()"
      ],
      "metadata": {
        "colab": {
          "base_uri": "https://localhost:8080/",
          "height": 279
        },
        "id": "yy39PkH9rZhE",
        "outputId": "eb2e81d5-cfb5-490f-e9eb-9d6fd2fb11f8"
      },
      "execution_count": 14,
      "outputs": [
        {
          "output_type": "display_data",
          "data": {
            "text/plain": [
              "<Figure size 432x288 with 1 Axes>"
            ],
            "image/png": "[encoded data removed]"
          },
          "metadata": {
            "needs_background": "light"
          }
        }
      ]
    },
    {
      "cell_type": "code",
      "source": [
        "rmse = 0\n",
        "for i in range(n):\n",
        "    y_pred = c + m * X[i]\n",
        "    rmse += (Y[i] - y_pred) ** 2\n",
        "rmse = np.sqrt(rmse/n)\n",
        "print(\"RMSE\")\n",
        "print(rmse)\n"
      ],
      "metadata": {
        "colab": {
          "base_uri": "https://localhost:8080/"
        },
        "id": "YqwSbYcSrhl0",
        "outputId": "090eca09-f3c4-4e3a-acf2-bdbc8c12b7b5"
      },
      "execution_count": 16,
      "outputs": [
        {
          "output_type": "stream",
          "name": "stdout",
          "text": [
            "RMSE\n",
            "1.0343313153150058\n"
          ]
        }
      ]
    },
    {
      "cell_type": "code",
      "source": [
        "ss_tot = 0\n",
        "ss_res = 0\n",
        "for i in range(n):\n",
        "    y_pred = c + m * X[i]\n",
        "    ss_tot += (Y[i] - mean_y) ** 2\n",
        "    ss_res += (Y[i] - y_pred) ** 2\n",
        "r2 = 1 - (ss_res/ss_tot)\n",
        "print(\"R2 Score\")\n",
        "print(r2)"
      ],
      "metadata": {
        "colab": {
          "base_uri": "https://localhost:8080/"
        },
        "id": "6ae94o8brncM",
        "outputId": "7f27e54f-0b40-48f7-e700-2d6d79a92284"
      },
      "execution_count": 17,
      "outputs": [
        {
          "output_type": "stream",
          "name": "stdout",
          "text": [
            "R2 Score\n",
            "0.9930290885585004\n"
          ]
        }
      ]
    },
    {
      "cell_type": "markdown",
      "source": [
        "#NUMBER 2"
      ],
      "metadata": {
        "id": "wIedlHQ9sSiq"
      }
    },
    {
      "cell_type": "code",
      "source": [
        "n = 8\n",
        "X = 52\n",
        "Y = 225\n",
        "X2 = 380\n",
        "Y2 = 7007\n",
        "\n",
        "Xmean = X/n\n",
        "Ymean = Y/n\n",
        "\n",
        "sumX = X - Xmean\n",
        "sumY = Y - Ymean\n",
        "sumX2 = X2 - Xmean\n",
        "sumY2 = Y2 - Ymean\n",
        "print('Sum of X - Xmean = ',sumX)\n",
        "print('Sum of Y - Ymean = ',sumY)\n",
        "print('Sum of X^2 - Xmean = ',sumX2)\n",
        "print('Sum of Y^2 - Xmean = ',sumY2)"
      ],
      "metadata": {
        "colab": {
          "base_uri": "https://localhost:8080/"
        },
        "id": "F4LHoANEsUAx",
        "outputId": "9a480342-5014-4f96-b9e8-5c97a58896ee"
      },
      "execution_count": 18,
      "outputs": [
        {
          "output_type": "stream",
          "name": "stdout",
          "text": [
            "Sum of X - Xmean =  45.5\n",
            "Sum of Y - Ymean =  196.875\n",
            "Sum of X^2 - Xmean =  373.5\n",
            "Sum of Y^2 - Xmean =  6978.875\n"
          ]
        }
      ]
    },
    {
      "cell_type": "code",
      "source": [
        "numerator = sumX*sumY\n",
        "denominator = math.sqrt(sumX2*sumY2)\n",
        "\n",
        "r = numerator/denominator\n",
        "\n",
        "print('Product Momennt Correlation Coefficient =',r)"
      ],
      "metadata": {
        "colab": {
          "base_uri": "https://localhost:8080/"
        },
        "id": "hYex2BuxtMFn",
        "outputId": "07675ecb-e4a0-4c4d-9946-a78cdcca13fc"
      },
      "execution_count": 23,
      "outputs": [
        {
          "output_type": "stream",
          "name": "stdout",
          "text": [
            "Product Momennt Correlation Coefficient = 5.54835134825082\n"
          ]
        }
      ]
    },
    {
      "cell_type": "code",
      "source": [
        "n = 8\n",
        "X = 52\n",
        "Y = 225\n",
        "X2 = 380\n",
        "Y2 = 7007\n",
        "\n",
        "Xmean = X/n\n",
        "Ymean = Y/n\n",
        "\n",
        "sumX = X - Xmean\n",
        "sumY = Y - Ymean\n",
        "sumX2 = X2 - Xmean\n",
        "sumY2 = Y2 - Ymean\n",
        "print('Sum of X - Xmean = ',sumX)\n",
        "print('Sum of Y - Ymean = ',sumY)\n",
        "print('Sum of X^2 - Xmean = ',sumX2)\n",
        "print('Sum of Y^2 - Xmean = ',sumY2)"
      ],
      "metadata": {
        "colab": {
          "base_uri": "https://localhost:8080/"
        },
        "id": "ozv2C56htceP",
        "outputId": "c000c656-e88e-45c6-a8cb-a6c25f46ee2c"
      },
      "execution_count": 24,
      "outputs": [
        {
          "output_type": "stream",
          "name": "stdout",
          "text": [
            "Sum of X - Xmean =  45.5\n",
            "Sum of Y - Ymean =  196.875\n",
            "Sum of X^2 - Xmean =  373.5\n",
            "Sum of Y^2 - Xmean =  6978.875\n"
          ]
        }
      ]
    },
    {
      "cell_type": "markdown",
      "source": [
        "#Number 3"
      ],
      "metadata": {
        "id": "TcFol2YMtn4W"
      }
    },
    {
      "cell_type": "code",
      "source": [
        "n = 6\n",
        "X = 200\n",
        "Y = 436\n",
        "X2 = 7250\n",
        "Y2 = 39234\n",
        "\n",
        "Xmean = X/n\n",
        "Ymean = Y/n\n",
        "\n",
        "sumX = X - Xmean\n",
        "sumY = Y - Ymean\n",
        "sumX2 = X2 - Xmean\n",
        "sumY2 = Y2 - Ymean\n",
        "print('Sum of X - Xmean = ',sumX)\n",
        "print('Sum of Y - Ymean = ',sumY)\n",
        "print('Sum of X^2 - Xmean = ',sumX2)\n",
        "print('Sum of Y^2 - Xmean = ',sumY2)"
      ],
      "metadata": {
        "colab": {
          "base_uri": "https://localhost:8080/"
        },
        "id": "NQGQ8mLItndO",
        "outputId": "7db01506-6cb3-4f1f-9e80-817b12e13f78"
      },
      "execution_count": 25,
      "outputs": [
        {
          "output_type": "stream",
          "name": "stdout",
          "text": [
            "Sum of X - Xmean =  166.66666666666666\n",
            "Sum of Y - Ymean =  363.3333333333333\n",
            "Sum of X^2 - Xmean =  7216.666666666667\n",
            "Sum of Y^2 - Xmean =  39161.333333333336\n"
          ]
        }
      ]
    },
    {
      "cell_type": "code",
      "source": [
        "numerator = sumX*sumY\n",
        "denominator = math.sqrt(sumX2*sumY2)\n",
        "\n",
        "r = numerator/denominator\n",
        "\n",
        "print('Product Momennt Correlation Coefficient =',r)"
      ],
      "metadata": {
        "colab": {
          "base_uri": "https://localhost:8080/"
        },
        "id": "emCKGWSvtvXm",
        "outputId": "fae958b4-d1c7-4315-b81e-cc55a69f977d"
      },
      "execution_count": 27,
      "outputs": [
        {
          "output_type": "stream",
          "name": "stdout",
          "text": [
            "Product Momennt Correlation Coefficient = 3.6021097004630254\n"
          ]
        }
      ]
    }
  ]
}