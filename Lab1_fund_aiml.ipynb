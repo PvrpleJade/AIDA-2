{
  "nbformat": 4,
  "nbformat_minor": 0,
  "metadata": {
    "colab": {
      "provenance": [],
      "include_colab_link": true
    },
    "kernelspec": {
      "name": "python3",
      "display_name": "Python 3"
    },
    "language_info": {
      "name": "python"
    }
  },
  "cells": [
    {
      "cell_type": "markdown",
      "metadata": {
        "id": "view-in-github",
        "colab_type": "text"
      },
      "source": [
        "<a href=\"https://colab.research.google.com/github/PvrpleJade/AIDA-2/blob/main/Lab1_fund_aiml.ipynb\" target=\"_parent\"><img src=\"https://colab.research.google.com/assets/colab-badge.svg\" alt=\"Open In Colab\"/></a>"
      ]
    },
    {
      "cell_type": "markdown",
      "source": [
        "Topic 1: Software Engineering Review\n",
        "\n",
        "credits to:\n",
        "\n",
        "©D.J. Lopez | 2021 | Fundamentals of Machine Learning\n",
        "\n",
        "Data Science or Machine Learning is more than math or business application. It is also important to remember that AI, ML, or DS are being integrated into industry and companies for product delivery. So it is important to keep code clean, manage your files properly, and also assure readability for your projects and their codes. This module is dedicated to reviewing the concepts of software engineering and integrating their concepts in Machine Learning programming. For this notebook we will be covering:\n",
        "\n",
        "    Modular Programming\n",
        "    Object-oriented Programming Concepts\n",
        "    Documentation\n",
        "    Version Control\n"
      ],
      "metadata": {
        "id": "quYBojuyUVFV"
      }
    },
    {
      "cell_type": "markdown",
      "source": [
        "# 1. Modular Programming\n",
        "Creating readable and understandable code is needed in the industry or any project that you might do. It does not just benefit yourself in understanding your code or project but also other teams, users, and even future researchers. In this module, we are going to discuss how to format your projects and codes for readability and understandability. One of the techniques to achieve this is through modular programming.\n",
        "\n",
        "The idea of modular programming is to make your code granular for reusability. It does not only makes your code simpler but also optimal. The goal of making your code more efficient does not only look into visual representation but also its optimization."
      ],
      "metadata": {
        "id": "wYIgi688VvKF"
      }
    },
    {
      "cell_type": "markdown",
      "source": [
        "## 1.1 Refactoring\n",
        "\n",
        "Refactoring your code means restructuring your code without changing the expected output. We consider code refactoring while optimizing our code in terms of naming or even in optimizing methods. The first activity of refactoring that we will do or consider is renaming and the other is \"functionizing\" your code. "
      ],
      "metadata": {
        "id": "i4uxHUdsWnd0"
      }
    },
    {
      "cell_type": "markdown",
      "source": [
        "### *Renaming*"
      ],
      "metadata": {
        "id": "oAZGVuuVWqf6"
      }
    },
    {
      "cell_type": "markdown",
      "source": [
        "You might think discussing this topic must be pointless or too simplistic but it is actually one of the most frequent mistakes that data scientists, professors, or researchers usually do. Naming variables and functions properly will bring clarity to understanding the code."
      ],
      "metadata": {
        "id": "as4kN-PIW3lO"
      }
    },
    {
      "cell_type": "code",
      "source": [
        "'''\n",
        "    CASE 1: Setting the class grades.\n",
        "\n",
        "    The case for this section would be computing for the grades of a \n",
        "    certain class. For the next cells will be looking in how can we create a \n",
        "    class analytics implementation.\n",
        "'''\n",
        "### Example of bad naming in module import nicknames.\n",
        "### Nicknames should be short and still relevant to the module.\n",
        "\n",
        "# import pandas as food_panda \n",
        "## bad, since not representative and long\n",
        "#import pandas as nd \n",
        "##bad, although short it is not representative\n",
        "import pandas as pd \n",
        "##good, aside form community acceptance it is short and representative\n",
        "\n",
        "ln = [\"Ingles\", \"Español\", \"Cruz\", \"Jones\"]\n",
        "# bad, since \"ln\" is ambiguous.\n",
        "\n",
        "names = [\"Ingles\", \"Español\", \"Cruz\", \"Jones\"] \n",
        "# good, since descriptive\n",
        "\n",
        "lnames = [\"Ingles\", \"Español\", \"Cruz\", \"Jones\"]\n",
        "# better, more specific that itis about last names\n",
        "\n",
        "last_names_of_the_class = [\"Ingles\", \"Español\", \"Cruz\", \"Jones\"] \n",
        "# bad, too long\n"
      ],
      "metadata": {
        "id": "VOHI31XdXRZf"
      },
      "execution_count": null,
      "outputs": []
    },
    {
      "cell_type": "markdown",
      "source": [
        "### Task 1: Setting the Class Grades\n",
        "1. Create variable declarations for:\n",
        "        - Last Names\n",
        "        - First Names\n",
        "        - Grades for Prelims\n",
        "        - Grades for Midterms\n",
        "        - Grades for Finals \n",
        "2. Create a DataFrame (Pandas) for consolidating the data from Task 1.1"
      ],
      "metadata": {
        "id": "zci_rqPbXn9v"
      }
    },
    {
      "cell_type": "markdown",
      "source": [
        "CODE HERE ###"
      ],
      "metadata": {
        "id": "75kXW5J_Xrcj"
      }
    },
    {
      "cell_type": "markdown",
      "source": [
        "**Code Reusability**\n",
        "\n",
        "Just like in any writing we want to reduce redundancies in our content. Just like following the rules of brevity we also consider that in creating cleaner code. One way of applying brevity to code is code reusability wherein you refrain from creating code that you repeat in encoding. This is where the use of functions will be most used. Consider the following code below."
      ],
      "metadata": {
        "id": "vjujlcyHYC-s"
      }
    },
    {
      "cell_type": "code",
      "source": [
        "'''\n",
        "    CASE 2: Computing grades.\n",
        "\n",
        "    For this cell we are going to look into creating functions for the class.\n",
        "    This includes computing for their grades and some classroom management\n",
        "    routines.\n",
        "'''\n",
        "### Consider this procedural programming script\n",
        "gs_1 = [89.4, 78.2, 88.0, 28.5, 67.3]\n",
        "# Get average grades of the class\n",
        "class_g = 0\n",
        "for g in gs_1:\n",
        "  class_g += g\n",
        "cmean = class_g/len(gs_1)\n",
        "print(cmean)"
      ],
      "metadata": {
        "colab": {
          "base_uri": "https://localhost:8080/"
        },
        "id": "BDjzFW0vYXrZ",
        "outputId": "b606ffab-602c-491e-c893-44610c2446b6"
      },
      "execution_count": null,
      "outputs": [
        {
          "output_type": "stream",
          "name": "stdout",
          "text": [
            "70.28\n"
          ]
        }
      ]
    },
    {
      "cell_type": "code",
      "source": [
        "### Now let's say you want to reuse the code above for a different class\n",
        "### you might just copy and paste in like the code below and change some \n",
        "### variable naming\n",
        "\n",
        "gs_2 = [99.4, 64.5, 87.2, 68.5, 57.]\n",
        "# Get average grades of the class\n",
        "class_g = 0\n",
        "for g in gs_2:\n",
        "  class_g += g\n",
        "cmean = class_g/len(gs_2)\n",
        "print(cmean)"
      ],
      "metadata": {
        "id": "sH8Mb-xfYjFV"
      },
      "execution_count": null,
      "outputs": []
    },
    {
      "cell_type": "code",
      "source": [
        "### That works but if you keep doing that for production, it would just look\n",
        "### like spaghetti code. Instead, if you are repeating code, consider creating\n",
        "### a function.\n",
        "\n",
        "def average(grades):\n",
        "  grades_class = 0\n",
        "  for g in grades:\n",
        "    grades_class += g\n",
        "  avg = grades_class/len(grades)\n",
        "  return avg"
      ],
      "metadata": {
        "id": "MJpuR9hOYom_"
      },
      "execution_count": null,
      "outputs": []
    },
    {
      "cell_type": "code",
      "source": [
        "### The code above would be reusable but it is not easy to read. We need to \n",
        "### enforce the code refactoring for renaming not just the variables but also\n",
        "### the functions we are creating. So if we would refactor the 'average' \n",
        "### Function earlier it could be:\n",
        "\n",
        "def get_class_ave(arr):\n",
        "  class_grades = 0\n",
        "  for grade in arr:\n",
        "    class_grades += grade\n",
        "  class_avg = class_grades/len(arr)\n",
        "  return class_avg"
      ],
      "metadata": {
        "id": "6zLavfvEYthy"
      },
      "execution_count": null,
      "outputs": []
    },
    {
      "cell_type": "markdown",
      "source": [
        "Task 2: Getting Class Statistics\n",
        "\n",
        "    Create a function named get_grades() for computing the semestral grade of each student:\n",
        "\n",
        "    inputs: DataFrame of a class grade sheet.\n",
        "\n",
        "    outpus: DataFrame showing:\n",
        "        The prelim, midterms, and finals grades of each student\n",
        "        The semestral grade of each student\n",
        "\n",
        "    Create a function named get_class_stats().\n",
        "\n",
        "    inputs: DataFrame from get_grades().\n",
        "\n",
        "    outpus: DataFrame showing:\n",
        "        The lowest and highest prelim, midterm, finals, and semestral grades\n",
        "        the mean, median, mode, and standard deviation of the grades\n"
      ],
      "metadata": {
        "id": "vhDrml2AY5i-"
      }
    },
    {
      "cell_type": "code",
      "source": [
        "### CODE HERE ###"
      ],
      "metadata": {
        "id": "3UkT-kJGY-24"
      },
      "execution_count": null,
      "outputs": []
    },
    {
      "cell_type": "markdown",
      "source": [
        "## 1.2 Code Optimization\n",
        "\n",
        "When we consider your code to be part of production or for customer delivery we must consider that they are not laggy nor too space-consuming for devices. This is a common practice in data science and machine learning wherein training algorithms take up resources from computers or considering the space a model consumes at your workspace or your customer’s device."
      ],
      "metadata": {
        "id": "4jToyOBhZFh1"
      }
    },
    {
      "cell_type": "markdown",
      "source": [
        "Space Complexity\n",
        "\n",
        "This would specifically refer to your choice of data structures. This is a job for reviewing data structures and algorithms for space complexity. Although in Python for AI we are looking into more data structures like matrices and data frames."
      ],
      "metadata": {
        "id": "kGMjyd8oZL5q"
      }
    },
    {
      "cell_type": "code",
      "source": [
        "'''\n",
        "    CASE 3: Class management.\n",
        "\n",
        "    For this cell we are going to look into optimizing functions for the class.\n",
        "    This includes finding unique data and similar data amnong class materials.\n",
        "'''\n",
        "## The following code will optimize how to efficiently store data into memory\n",
        "enrollees_2016_2020 = ['15022', '18302', '8845', '9203', '10035']\n",
        "enrollees_2016_2020 = [15022, 18302, 8845, 9203, 10035]"
      ],
      "metadata": {
        "id": "o9MAuHJXZQg1"
      },
      "execution_count": null,
      "outputs": []
    },
    {
      "cell_type": "code",
      "source": [
        "img1 = [[125.4543, 254.0001], [64.2132, 84.5336]]\n",
        "img1"
      ],
      "metadata": {
        "id": "6PoFO7tUZUS6",
        "colab": {
          "base_uri": "https://localhost:8080/"
        },
        "outputId": "46d7e0a1-4cd2-4f51-e56c-d2d7c2e01de6"
      },
      "execution_count": null,
      "outputs": [
        {
          "output_type": "execute_result",
          "data": {
            "text/plain": [
              "[[125.4543, 254.0001], [64.2132, 84.5336]]"
            ]
          },
          "metadata": {},
          "execution_count": 1
        }
      ]
    },
    {
      "cell_type": "code",
      "source": [
        "import numpy as np\n",
        "img1_vector = np.array(img1)\n",
        "img1_vector"
      ],
      "metadata": {
        "id": "VIezBpLvZYNM"
      },
      "execution_count": null,
      "outputs": []
    },
    {
      "cell_type": "code",
      "source": [
        "img1_quantized = np.array(img1_vector, dtype='int32')\n",
        "img1_quantized"
      ],
      "metadata": {
        "id": "mMqS-4TSZbn4"
      },
      "execution_count": null,
      "outputs": []
    },
    {
      "cell_type": "markdown",
      "source": [
        "Time Complexity\n",
        "\n",
        "If you would recall back in your data structures and algorithms this pertains to the Big-O notation. However, in this notebook, we’ll look into specific and intuitive samples of time complexity. We are going to look at specific AI use such as the concept of vectorization."
      ],
      "metadata": {
        "id": "fSwXxa3oZg8G"
      }
    },
    {
      "cell_type": "code",
      "source": [
        "## The following code wil try to optimize getting unique elements from the given\n",
        "## list of class codes\n",
        "\n",
        "curr_2018_courses = ['220', '270', '318', '450', '101', '768', '223L', '223',\n",
        "                     '727', '418', '673', '672', '450', '124', '771', '654',\n",
        "                     '231', '768', '768', '224', '654', '673']\n",
        "### print an array that shows only the unique elements\n",
        "### Code from Geeks for Geeks\n",
        "def unique(arr):\n",
        "     # initialize a null list\n",
        "    unique_list = []\n",
        "     \n",
        "    # traverse for all elements\n",
        "    for item in arr:\n",
        "        # check if exists in unique_list or not\n",
        "        if item not in unique_list:\n",
        "            unique_list.append(item)\n",
        "    return sorted(unique_list)\n",
        "\n",
        "unique(curr_2018_courses)  "
      ],
      "metadata": {
        "id": "V7tRLw7DZoIV",
        "colab": {
          "base_uri": "https://localhost:8080/"
        },
        "outputId": "f2254291-a242-4eae-e488-17f7a27cd101"
      },
      "execution_count": null,
      "outputs": [
        {
          "output_type": "execute_result",
          "data": {
            "text/plain": [
              "['101',\n",
              " '124',\n",
              " '220',\n",
              " '223',\n",
              " '223L',\n",
              " '224',\n",
              " '231',\n",
              " '270',\n",
              " '318',\n",
              " '418',\n",
              " '450',\n",
              " '654',\n",
              " '672',\n",
              " '673',\n",
              " '727',\n",
              " '768',\n",
              " '771']"
            ]
          },
          "metadata": {},
          "execution_count": 3
        }
      ]
    },
    {
      "cell_type": "code",
      "source": [
        "### Optimized way\n",
        "sorted(list(set(curr_2018_courses)))"
      ],
      "metadata": {
        "id": "Nln0BouRZr7e",
        "colab": {
          "base_uri": "https://localhost:8080/"
        },
        "outputId": "5f17de0e-7ccc-4bc2-c3e7-f68069a243a6"
      },
      "execution_count": null,
      "outputs": [
        {
          "output_type": "execute_result",
          "data": {
            "text/plain": [
              "['101',\n",
              " '124',\n",
              " '220',\n",
              " '223',\n",
              " '223L',\n",
              " '224',\n",
              " '231',\n",
              " '270',\n",
              " '318',\n",
              " '418',\n",
              " '450',\n",
              " '654',\n",
              " '672',\n",
              " '673',\n",
              " '727',\n",
              " '768',\n",
              " '771']"
            ]
          },
          "metadata": {},
          "execution_count": 4
        }
      ]
    },
    {
      "cell_type": "code",
      "source": [
        "### Optimizing Functions\n",
        "import math\n",
        "def get_floor_binlog(num):\n",
        "  return math.floor(math.log2(num))\n",
        "get_floor_binlog(31)"
      ],
      "metadata": {
        "id": "0ttO-hQrZtMw",
        "colab": {
          "base_uri": "https://localhost:8080/"
        },
        "outputId": "8e9da382-ec2e-4c93-cc19-7a694bfcd80b"
      },
      "execution_count": null,
      "outputs": [
        {
          "output_type": "execute_result",
          "data": {
            "text/plain": [
              "4"
            ]
          },
          "metadata": {},
          "execution_count": 5
        }
      ]
    },
    {
      "cell_type": "code",
      "source": [
        "### Lambda Functions\n",
        "binlog = lambda num: math.floor(math.log2(num))\n",
        "binlog(31)"
      ],
      "metadata": {
        "id": "jpv2BnMPZxQd"
      },
      "execution_count": null,
      "outputs": []
    },
    {
      "cell_type": "code",
      "source": [
        "### Optimizing Booleans\n",
        "val = 1\n",
        "if val%2 == 0:\n",
        "  val = 1\n",
        "else:\n",
        "  val = 2"
      ],
      "metadata": {
        "id": "2tXzr5URZ0tr"
      },
      "execution_count": null,
      "outputs": []
    },
    {
      "cell_type": "code",
      "source": [
        "### Singe-line Boolean Statemets\n",
        "val = 1\n",
        "val = 1 if val%2 == 0 else 2\n",
        "val"
      ],
      "metadata": {
        "id": "vt83WYbXZ7aR",
        "colab": {
          "base_uri": "https://localhost:8080/"
        },
        "outputId": "0d6fc2ae-6cf7-45cb-8546-8b984a149253"
      },
      "execution_count": null,
      "outputs": [
        {
          "output_type": "execute_result",
          "data": {
            "text/plain": [
              "2"
            ]
          },
          "metadata": {},
          "execution_count": 6
        }
      ]
    },
    {
      "cell_type": "code",
      "source": [
        "### Optimizing Iterations\n",
        "bits = [1,0,1,1,1]\n",
        "not_bits = []\n",
        "for bit in bits:\n",
        "  not_bits.append(int(not(bit)))\n",
        "print(not_bits)"
      ],
      "metadata": {
        "id": "G9ZEm3cgaAIE",
        "colab": {
          "base_uri": "https://localhost:8080/"
        },
        "outputId": "6ecdfb72-6eb9-4304-ea1e-11b5ee132219"
      },
      "execution_count": null,
      "outputs": [
        {
          "output_type": "stream",
          "name": "stdout",
          "text": [
            "[0, 1, 0, 0, 0]\n"
          ]
        }
      ]
    },
    {
      "cell_type": "code",
      "source": [
        "### List Comprehensions\n",
        "bits = [1,0,1,0,1]\n",
        "not_bits = [int(not(bit)) for bit in bits]\n",
        "not_bits"
      ],
      "metadata": {
        "id": "i_lzobbRaDqz"
      },
      "execution_count": null,
      "outputs": []
    },
    {
      "cell_type": "code",
      "source": [
        "### A Networks Example\n",
        "def get_floor_binlog(num):\n",
        "  return math.floor(math.log2(num))\n",
        "def get_subnet_bits(user_count):\n",
        "  \n",
        "  floor_bin = get_floor_binlog(user_count) # gets the floor bits from \n",
        "                                           # the user count\n",
        "  if floor_bin == 0: # assign 1 if bit count is 0.\n",
        "    floor_bin = 1\n",
        "  bits = [] # instantiate the bit container\n",
        "  for i in range(floor_bin): # add a bit to the list of bits according to the\n",
        "                             # bit count.\n",
        "    bits.append(1) \n",
        "  return bits\n",
        "\n",
        "get_subnet_bits(32)"
      ],
      "metadata": {
        "id": "nX2fixE5aH8z",
        "colab": {
          "base_uri": "https://localhost:8080/"
        },
        "outputId": "bbfff04d-09b3-4cc0-a846-f31a8015a277"
      },
      "execution_count": null,
      "outputs": [
        {
          "output_type": "execute_result",
          "data": {
            "text/plain": [
              "[1, 1, 1, 1, 1]"
            ]
          },
          "metadata": {},
          "execution_count": 8
        }
      ]
    },
    {
      "cell_type": "code",
      "source": [
        "#### An Optimized Networks Example\n",
        "floor_bin = lambda num: math.floor(math.log2(num))\n",
        "\n",
        "def get_subnet_bits(user_count):\n",
        "  \n",
        "  nbits = floor_bin(user_count) # gets the floor bits from the user count\n",
        "  nbits = 1 if nbits==0 else nbits # assign 1 if bit count is 0.\n",
        "  bits = [1 for i in range(nbits)] # add a bit to the list of bits according \n",
        "                                   # to the bit count.\n",
        "  return bits\n",
        "\n",
        "get_subnet_bits(32)"
      ],
      "metadata": {
        "id": "jrKzgDv3aLxx"
      },
      "execution_count": null,
      "outputs": []
    },
    {
      "cell_type": "code",
      "source": [
        "## The following code wil try to optimize solving for the inner product of two\n",
        "## lists\n",
        "vectA = [1,2,3,1,-1,2]\n",
        "vectB = [-1,4,5,3,2,0]"
      ],
      "metadata": {
        "id": "sMc6IJWlaQaL"
      },
      "execution_count": null,
      "outputs": []
    },
    {
      "cell_type": "code",
      "source": [
        "def inner_product(vect1, vect2):\n",
        "  result = 0 \n",
        "  for va,vb in zip(vectA, vectB):\n",
        "    result += va*vb\n",
        "  return result\n",
        "inner_product(vectA, vectB)"
      ],
      "metadata": {
        "id": "802k7n2CaUCu"
      },
      "execution_count": null,
      "outputs": []
    },
    {
      "cell_type": "code",
      "source": [
        "## Optimized method\n",
        "np.array(vectA) @ np.array(vectB) "
      ],
      "metadata": {
        "id": "fX90m0uoaX20"
      },
      "execution_count": null,
      "outputs": []
    },
    {
      "cell_type": "markdown",
      "source": [
        "### Task 3: Advanced Class Functions\n",
        "1. Optimize `get_grades()` by eliminating for loops in your function.\n",
        "2. Create a function named `get_similar_students()`\n",
        "  \n",
        "  `inputs`: two (2) class `DataFrames`\n",
        "  \n",
        "  `outputs`: list of common student numbers.\n",
        "\n",
        "  *Note*: The function should not contain iterative code blocks (i.e. `for` or `while` loops, or list comprehension)"
      ],
      "metadata": {
        "id": "V56iR_Q4aefv"
      }
    },
    {
      "cell_type": "code",
      "source": [
        "### CODE HERE ###"
      ],
      "metadata": {
        "id": "lV5iet26ai7z"
      },
      "execution_count": null,
      "outputs": []
    },
    {
      "cell_type": "markdown",
      "source": [
        "# 2. Some Object-Oriented Programming Concepts\n",
        "\n",
        "Object-oriented programming (OOP) is undoubtedly a foundational programming course for Software Engineering. The idea of OOP is to transform procedural programming into a more modular programming style. In this section, we are going to review the fundamentals of OOP such as objects, classes, and encapsulation."
      ],
      "metadata": {
        "id": "N5FaBXYvampG"
      }
    },
    {
      "cell_type": "markdown",
      "source": [
        "2.1 Objects and Classes\n",
        "\n",
        "Learning about objects and classes is one of the foundations of OOP. Think of objects as any object that you could see. Like cars, shirts, humans, professions, even your favorite anime characters. Classes on the other hand are the categories or concepts of those things. In this section, we’ll review how to instantiate classes and objects."
      ],
      "metadata": {
        "id": "_a01vabfauI3"
      }
    },
    {
      "cell_type": "markdown",
      "source": [
        "### *Attributes and Methods*\n",
        "Just like any object are just things we could describe them or they could have what we call descriptions or characteristics. In OOP we call these attributes. Attributes can be any value representing an aspect of the object which is inclusive to its concept of class. For example, a tree (object)  under the category of plants (class) could have attributes such as its name, age, height, or even the amount of oxygen it produces.\n",
        "\n",
        "Methods, on the other hand, are interactions that could be done by the object or could be done onto the object. For example for our tree, it could grow, photosynthesize, absorb water, or we could harvest its fruits. In this example, we can try to review the attributes and methods of a class or object."
      ],
      "metadata": {
        "id": "MFym0z9EaypP"
      }
    },
    {
      "cell_type": "code",
      "source": [
        "'''\n",
        "    CASE 4: Class of Classes\n",
        "\n",
        "    For this section we are going to look at implementing the fundamentals of\n",
        "    OOP for our class routines.\n",
        "'''\n",
        "class Section:\n",
        "  def __init__(self, max_pop, class_list):\n",
        "    self.max_pop = max_pop\n",
        "    self.class_list = class_list\n",
        "  \n",
        "  def count_class(self):\n",
        "    return len(self.class_list)\n",
        "\n",
        "  def is_overloaded(self):\n",
        "    is_overload = True if self.count_class() > self.max_pop else False\n",
        "    return is_overload"
      ],
      "metadata": {
        "id": "7tOG-TVba4Kj"
      },
      "execution_count": null,
      "outputs": []
    },
    {
      "cell_type": "markdown",
      "source": [
        "### *Class Instantiation*\n",
        "Now that we have created our class let’s try to put them to use in code. To use classes and objects in your code we are going to instantiate them. There are several ways to instantiate an object and we will be trying them out in this section."
      ],
      "metadata": {
        "id": "rLyJMf4aa8pT"
      }
    },
    {
      "cell_type": "code",
      "source": [
        "CpE_58053 = Section(40, ['John'])\n",
        "print(CpE_58053.is_overloaded())\n",
        "print(CpE_58053.count_class())"
      ],
      "metadata": {
        "id": "p738cILYbClX",
        "colab": {
          "base_uri": "https://localhost:8080/"
        },
        "outputId": "ab149b6a-3fb5-4654-9950-e51d25a5b2fd"
      },
      "execution_count": null,
      "outputs": [
        {
          "output_type": "stream",
          "name": "stdout",
          "text": [
            "False\n",
            "1\n"
          ]
        }
      ]
    },
    {
      "cell_type": "markdown",
      "source": [
        "## 2.2 Encapsulation\n",
        "The idea of incapsulation is to restrict users or developers from using or tampering with the internal attributes or methods of a class. This would be similar to using the private or public property in Java, C++, or C#. Python also enforces this in programming but in a different way. \n",
        "\n",
        "Not every procedure or transaction in a class should be shown to the users. We used the concept of encapsulation to solve this. In Python, all attributes, variables, or methods are public by default. In this section, we will see how to make methods and attributes private."
      ],
      "metadata": {
        "id": "HOg50LQGbGtq"
      }
    },
    {
      "cell_type": "code",
      "source": [
        "class Section:\n",
        "  def __init__(self, max_pop, class_list):\n",
        "    self.max_pop = max_pop\n",
        "    self.class_list = class_list\n",
        "  \n",
        "  def __count_class(self):\n",
        "    return len(self.class_list)\n",
        "\n",
        "  def is_overloaded(self):\n",
        "    is_overload = True if self.__count_class() > self.max_pop else False\n",
        "    return is_overload"
      ],
      "metadata": {
        "id": "FRlDgskBbQL3"
      },
      "execution_count": null,
      "outputs": []
    },
    {
      "cell_type": "code",
      "source": [
        "CpE_58054 = Section(2, ['Jeanne', 'Pietro', 'Dude'])\n",
        "print(CpE_58054.is_overloaded())\n",
        "print(CpE_58054.__count_class())"
      ],
      "metadata": {
        "id": "agmRevtcbXT4",
        "colab": {
          "base_uri": "https://localhost:8080/",
          "height": 226
        },
        "outputId": "61442017-4293-41e5-ea44-83f751cc584e"
      },
      "execution_count": null,
      "outputs": [
        {
          "output_type": "stream",
          "name": "stdout",
          "text": [
            "True\n"
          ]
        },
        {
          "output_type": "error",
          "ename": "AttributeError",
          "evalue": "ignored",
          "traceback": [
            "\u001b[0;31m---------------------------------------------------------------------------\u001b[0m",
            "\u001b[0;31mAttributeError\u001b[0m                            Traceback (most recent call last)",
            "\u001b[0;32m<ipython-input-15-ef1a6593cb70>\u001b[0m in \u001b[0;36m<module>\u001b[0;34m\u001b[0m\n\u001b[1;32m      1\u001b[0m \u001b[0mCpE_58054\u001b[0m \u001b[0;34m=\u001b[0m \u001b[0mSection\u001b[0m\u001b[0;34m(\u001b[0m\u001b[0;36m2\u001b[0m\u001b[0;34m,\u001b[0m \u001b[0;34m[\u001b[0m\u001b[0;34m'Jeanne'\u001b[0m\u001b[0;34m,\u001b[0m \u001b[0;34m'Pietro'\u001b[0m\u001b[0;34m,\u001b[0m \u001b[0;34m'Dude'\u001b[0m\u001b[0;34m]\u001b[0m\u001b[0;34m)\u001b[0m\u001b[0;34m\u001b[0m\u001b[0;34m\u001b[0m\u001b[0m\n\u001b[1;32m      2\u001b[0m \u001b[0mprint\u001b[0m\u001b[0;34m(\u001b[0m\u001b[0mCpE_58054\u001b[0m\u001b[0;34m.\u001b[0m\u001b[0mis_overloaded\u001b[0m\u001b[0;34m(\u001b[0m\u001b[0;34m)\u001b[0m\u001b[0;34m)\u001b[0m\u001b[0;34m\u001b[0m\u001b[0;34m\u001b[0m\u001b[0m\n\u001b[0;32m----> 3\u001b[0;31m \u001b[0mprint\u001b[0m\u001b[0;34m(\u001b[0m\u001b[0mCpE_58054\u001b[0m\u001b[0;34m.\u001b[0m\u001b[0m__count_class\u001b[0m\u001b[0;34m(\u001b[0m\u001b[0;34m)\u001b[0m\u001b[0;34m)\u001b[0m\u001b[0;34m\u001b[0m\u001b[0;34m\u001b[0m\u001b[0m\n\u001b[0m",
            "\u001b[0;31mAttributeError\u001b[0m: 'Section' object has no attribute '__count_class'"
          ]
        }
      ]
    },
    {
      "cell_type": "markdown",
      "source": [
        "### Task 4: Class of Classes\n",
        "1. Modify the `class` `Section` and integrate the functions from Tasks 1 to 3 as its methods. Make sure that the codes are optimized.\n",
        "2. Create a `method` named `get_failed()` wherein it will create a list of all the failed students in the class.\n",
        "3. Create a `method` named `fail_count()` wherein it will return the count of the failed students.\n",
        "\n",
        "** **Note:** due to data privacy, the data privacy office has mandated your code to refrain from printing the student number and names of students. Their student numbers and names  must be masked with asterisks."
      ],
      "metadata": {
        "id": "ptTnr3DfbbiU"
      }
    },
    {
      "cell_type": "code",
      "source": [
        "### CODE HERE ###"
      ],
      "metadata": {
        "id": "WdSSr7Bsbhg-"
      },
      "execution_count": null,
      "outputs": []
    },
    {
      "cell_type": "markdown",
      "source": [
        "---\n",
        "**END OF LABORATORY**\n",
        "\n",
        "---"
      ],
      "metadata": {
        "id": "9MfSybRXbmvj"
      }
    }
  ]
}