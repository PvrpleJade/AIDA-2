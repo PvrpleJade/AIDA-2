{
  "nbformat": 4,
  "nbformat_minor": 0,
  "metadata": {
    "colab": {
      "provenance": [],
      "authorship_tag": "ABX9TyOnDn/vdtxZWMxq6kEPBdfp",
      "include_colab_link": true
    },
    "kernelspec": {
      "name": "python3",
      "display_name": "Python 3"
    },
    "language_info": {
      "name": "python"
    }
  },
  "cells": [
    {
      "cell_type": "markdown",
      "metadata": {
        "id": "view-in-github",
        "colab_type": "text"
      },
      "source": [
        "<a href=\"https://colab.research.google.com/github/PvrpleJade/AIDA-2/blob/main/LAB_3.ipynb\" target=\"_parent\"><img src=\"https://colab.research.google.com/assets/colab-badge.svg\" alt=\"Open In Colab\"/></a>"
      ]
    },
    {
      "cell_type": "markdown",
      "source": [
        "# Types of Matrices"
      ],
      "metadata": {
        "id": "bwqkbSlGhi7R"
      }
    },
    {
      "cell_type": "code",
      "execution_count": 7,
      "metadata": {
        "id": "MNuU0LH0hXFP"
      },
      "outputs": [],
      "source": [
        "import numpy as np\n",
        "### According to Shape\n",
        "row = np.array([\n",
        "                [4,2,9]\n",
        "])\n",
        "\n",
        "col = np.array([\n",
        "                [9],\n",
        "                [1],\n",
        "                [2]\n",
        "])\n",
        "\n",
        "square = np.array([\n",
        "                   [1,2],\n",
        "                   [3,2]\n",
        "])\n",
        "\n",
        "def vect_to_row(vect):\n",
        "  size = vect.size\n",
        "  row = vect.reshape(1,size)\n",
        "  return row\n",
        "vectA = np.array([1,2,3,4,5])\n",
        "vectB = np.array([1,2,3,4,5,6,7,8])\n",
        "vectC = np.array([1,2,3,4,5,6,7,8,9,10])\n",
        "\n"
      ]
    },
    {
      "cell_type": "code",
      "source": [
        "print (col)\n",
        "print (square)\n",
        "vect_to_row(vectC)"
      ],
      "metadata": {
        "colab": {
          "base_uri": "https://localhost:8080/"
        },
        "id": "-fZO9uq5iFln",
        "outputId": "5657a9d1-18a9-4a25-ba37-4958bc06ca91"
      },
      "execution_count": 8,
      "outputs": [
        {
          "output_type": "stream",
          "name": "stdout",
          "text": [
            "[[9]\n",
            " [1]\n",
            " [2]]\n",
            "[[1 2]\n",
            " [3 2]]\n"
          ]
        },
        {
          "output_type": "execute_result",
          "data": {
            "text/plain": [
              "array([[ 1,  2,  3,  4,  5,  6,  7,  8,  9, 10]])"
            ]
          },
          "metadata": {},
          "execution_count": 8
        }
      ]
    },
    {
      "cell_type": "code",
      "source": [
        "### According to Values\n",
        "zeros = np.zeros((2,3))\n",
        "zeros\n",
        "\n",
        "ones = np.ones((2,3))\n",
        "ones\n",
        "\n",
        "full = np.full((2,3),5)\n",
        "full\n",
        "\n",
        "v = np.array([1,2,3])\n",
        "diagonal =np.diag(v)\n",
        "diagonal\n",
        "\n",
        "I = np.eye(3)\n",
        "I = np.identity(4)\n",
        "I\n",
        "\n",
        "s = 3\n",
        "I = np.identity(4)\n",
        "\n",
        "scalar = s*I\n",
        "scalar\n",
        "\n"
      ],
      "metadata": {
        "colab": {
          "base_uri": "https://localhost:8080/"
        },
        "id": "fckkwiPZm6bT",
        "outputId": "8ffc901e-a845-4c8c-c2d2-1d8cbd99769b"
      },
      "execution_count": 13,
      "outputs": [
        {
          "output_type": "execute_result",
          "data": {
            "text/plain": [
              "array([[3., 0., 0., 0.],\n",
              "       [0., 3., 0., 0.],\n",
              "       [0., 0., 3., 0.],\n",
              "       [0., 0., 0., 3.]])"
            ]
          },
          "metadata": {},
          "execution_count": 13
        }
      ]
    },
    {
      "cell_type": "code",
      "source": [
        "print (zeros)\n",
        "print (ones)\n",
        "print (full)\n",
        "print (diagonal)\n"
      ],
      "metadata": {
        "colab": {
          "base_uri": "https://localhost:8080/"
        },
        "id": "1qBVxoYnm_yM",
        "outputId": "190ea332-1be6-4fc4-ac36-6e29d4f0b478"
      },
      "execution_count": 19,
      "outputs": [
        {
          "output_type": "stream",
          "name": "stdout",
          "text": [
            "[[0. 0. 0.]\n",
            " [0. 0. 0.]]\n",
            "[[1. 1. 1.]\n",
            " [1. 1. 1.]]\n",
            "[[5 5 5]\n",
            " [5 5 5]]\n",
            "[[1 0 0]\n",
            " [0 2 0]\n",
            " [0 0 3]]\n"
          ]
        }
      ]
    },
    {
      "cell_type": "code",
      "source": [
        "def scalar_matrix(n,scalar):\n",
        "\n",
        "  scalar_matrix = np.identity(n)*scalar\n",
        "  return scalar_matrix\n",
        "\n",
        "scalar_matrix(10,145)"
      ],
      "metadata": {
        "colab": {
          "base_uri": "https://localhost:8080/"
        },
        "id": "cFu7H-1joQf-",
        "outputId": "7192eaa5-fc4b-4727-dd6d-9e2081b50db8"
      },
      "execution_count": 23,
      "outputs": [
        {
          "output_type": "execute_result",
          "data": {
            "text/plain": [
              "array([[145.,   0.,   0.,   0.,   0.,   0.,   0.,   0.,   0.,   0.],\n",
              "       [  0., 145.,   0.,   0.,   0.,   0.,   0.,   0.,   0.,   0.],\n",
              "       [  0.,   0., 145.,   0.,   0.,   0.,   0.,   0.,   0.,   0.],\n",
              "       [  0.,   0.,   0., 145.,   0.,   0.,   0.,   0.,   0.,   0.],\n",
              "       [  0.,   0.,   0.,   0., 145.,   0.,   0.,   0.,   0.,   0.],\n",
              "       [  0.,   0.,   0.,   0.,   0., 145.,   0.,   0.,   0.,   0.],\n",
              "       [  0.,   0.,   0.,   0.,   0.,   0., 145.,   0.,   0.,   0.],\n",
              "       [  0.,   0.,   0.,   0.,   0.,   0.,   0., 145.,   0.,   0.],\n",
              "       [  0.,   0.,   0.,   0.,   0.,   0.,   0.,   0., 145.,   0.],\n",
              "       [  0.,   0.,   0.,   0.,   0.,   0.,   0.,   0.,   0., 145.]])"
            ]
          },
          "metadata": {},
          "execution_count": 23
        }
      ]
    },
    {
      "cell_type": "markdown",
      "source": [
        "# Matrix Operation\n",
        "### Arithmetic in Matrices"
      ],
      "metadata": {
        "id": "4hDCLA4CpXOS"
      }
    },
    {
      "cell_type": "code",
      "source": [
        "import numpy as np\n",
        "\n",
        "A = 2*np.ones((2,2))\n",
        "2 + A\n",
        "2*A\n",
        "A**2 \n",
        "A"
      ],
      "metadata": {
        "colab": {
          "base_uri": "https://localhost:8080/"
        },
        "id": "v8wpS7PCpjJJ",
        "outputId": "8bbc904f-67f7-4537-832a-a5f951644e06"
      },
      "execution_count": 26,
      "outputs": [
        {
          "output_type": "execute_result",
          "data": {
            "text/plain": [
              "array([[2., 2.],\n",
              "       [2., 2.]])"
            ]
          },
          "metadata": {},
          "execution_count": 26
        }
      ]
    },
    {
      "cell_type": "markdown",
      "source": [
        "### Dot Product"
      ],
      "metadata": {
        "id": "rtNl7ZF7prZc"
      }
    },
    {
      "cell_type": "code",
      "source": [
        "B = np.array([\n",
        "              [1,2],\n",
        "              [3,7]\n",
        "])\n",
        "\n",
        "B.dot(B)"
      ],
      "metadata": {
        "colab": {
          "base_uri": "https://localhost:8080/"
        },
        "id": "xRxbFzcqptWG",
        "outputId": "4ae7fede-7232-43a0-f9b7-ce5875b43628"
      },
      "execution_count": 27,
      "outputs": [
        {
          "output_type": "execute_result",
          "data": {
            "text/plain": [
              "array([[ 7, 16],\n",
              "       [24, 55]])"
            ]
          },
          "metadata": {},
          "execution_count": 27
        }
      ]
    },
    {
      "cell_type": "markdown",
      "source": [
        "### Transposition"
      ],
      "metadata": {
        "id": "ewxVjRfcpzZ_"
      }
    },
    {
      "cell_type": "code",
      "source": [
        "import numpy as np\n",
        "\n",
        "rowB = np.array([[1,2,3]])\n",
        "rowB.T\n",
        "\n",
        "matA = np.array([\n",
        "                 [1,4],\n",
        "                 [3,7]\n",
        "])\n",
        "matA.T\n",
        "\n",
        "matB = np.array([\n",
        "                 [1,2,3],\n",
        "                 [3,7,4],\n",
        "                 [-1,0,1]\n",
        "])\n",
        "\n",
        "matB.T"
      ],
      "metadata": {
        "colab": {
          "base_uri": "https://localhost:8080/"
        },
        "id": "_qdhzpSPp516",
        "outputId": "904359ca-de5f-4ad8-b851-96a030228e58"
      },
      "execution_count": 29,
      "outputs": [
        {
          "output_type": "execute_result",
          "data": {
            "text/plain": [
              "array([[ 1,  3, -1],\n",
              "       [ 2,  7,  0],\n",
              "       [ 3,  4,  1]])"
            ]
          },
          "metadata": {},
          "execution_count": 29
        }
      ]
    },
    {
      "cell_type": "code",
      "source": [
        "matA.T"
      ],
      "metadata": {
        "colab": {
          "base_uri": "https://localhost:8080/"
        },
        "id": "M5u8rP4UqUx9",
        "outputId": "7d1938cd-d93a-4555-c646-b86d06e98417"
      },
      "execution_count": 30,
      "outputs": [
        {
          "output_type": "execute_result",
          "data": {
            "text/plain": [
              "array([[1, 3],\n",
              "       [2, 7]])"
            ]
          },
          "metadata": {},
          "execution_count": 30
        }
      ]
    },
    {
      "cell_type": "markdown",
      "source": [
        "###Determinants"
      ],
      "metadata": {
        "id": "NvgF2Hvyq6SU"
      }
    },
    {
      "cell_type": "code",
      "source": [
        "A = np.array([\n",
        "              [1,2],\n",
        "              [2,4]\n",
        "])\n",
        "\n",
        "B = np.array([\n",
        "              [1,2,3],\n",
        "              [1,3,3],\n",
        "              [5,1,15]\n",
        "])\n",
        "\n",
        "np.linalg.det(B)"
      ],
      "metadata": {
        "colab": {
          "base_uri": "https://localhost:8080/"
        },
        "id": "gQcnX_xZq5vV",
        "outputId": "18d1eaea-ea04-4deb-9290-7b825bb8b612"
      },
      "execution_count": 31,
      "outputs": [
        {
          "output_type": "execute_result",
          "data": {
            "text/plain": [
              "0.0"
            ]
          },
          "metadata": {},
          "execution_count": 31
        }
      ]
    },
    {
      "cell_type": "markdown",
      "source": [
        "###Singular Matrices/Vectors"
      ],
      "metadata": {
        "id": "rQa40RTRsQJn"
      }
    },
    {
      "cell_type": "code",
      "source": [
        "### Rank 0 matrices\n",
        "s = np.array(1)\n",
        "s.ndim"
      ],
      "metadata": {
        "colab": {
          "base_uri": "https://localhost:8080/"
        },
        "id": "WyTTiU4-sdQs",
        "outputId": "15b62e8e-6d4e-4e14-eaee-a2a4d79c8403"
      },
      "execution_count": 32,
      "outputs": [
        {
          "output_type": "execute_result",
          "data": {
            "text/plain": [
              "0"
            ]
          },
          "metadata": {},
          "execution_count": 32
        }
      ]
    },
    {
      "cell_type": "code",
      "source": [
        "### Rank 1 Matrices\n",
        "\n",
        "v = np.array([1,2,3])\n",
        "v.ndim"
      ],
      "metadata": {
        "colab": {
          "base_uri": "https://localhost:8080/"
        },
        "id": "M63gttSosljG",
        "outputId": "a2ded145-fa70-43e7-e6b0-5f40596cbbf3"
      },
      "execution_count": 33,
      "outputs": [
        {
          "output_type": "execute_result",
          "data": {
            "text/plain": [
              "1"
            ]
          },
          "metadata": {},
          "execution_count": 33
        }
      ]
    },
    {
      "cell_type": "code",
      "source": [
        "### Rank 2 Matrices\n",
        "\n",
        "A = np.array([\n",
        "              [1,2,3],\n",
        "              [2,3,1],\n",
        "              [1,0,1]\n",
        "])\n",
        "A.ndim"
      ],
      "metadata": {
        "colab": {
          "base_uri": "https://localhost:8080/"
        },
        "id": "i78v3xQusrlk",
        "outputId": "c4aaaadf-8e0b-4903-8053-aaa0cbaa809f"
      },
      "execution_count": 34,
      "outputs": [
        {
          "output_type": "execute_result",
          "data": {
            "text/plain": [
              "2"
            ]
          },
          "metadata": {},
          "execution_count": 34
        }
      ]
    },
    {
      "cell_type": "code",
      "source": [
        "X = np.array([\n",
        "              [1,2,3],\n",
        "              [2,3,1],\n",
        "              [1,0,1]\n",
        "])\n",
        "\n",
        "X.shape # (3, 3)"
      ],
      "metadata": {
        "colab": {
          "base_uri": "https://localhost:8080/"
        },
        "id": "1ok14hRKsuHQ",
        "outputId": "f862724c-f7e2-4f0b-f463-a7c44626cf4e"
      },
      "execution_count": 36,
      "outputs": [
        {
          "output_type": "execute_result",
          "data": {
            "text/plain": [
              "(3, 3)"
            ]
          },
          "metadata": {},
          "execution_count": 36
        }
      ]
    },
    {
      "cell_type": "code",
      "source": [
        "X = np.array([\n",
        "              [\n",
        "                [1,2,3],\n",
        "                [2,3,1],\n",
        "                [1,0,1]],\n",
        "              [\n",
        "                [1,2,3],\n",
        "                [2,3,1],\n",
        "                [1,0,1]]\n",
        "])\n",
        "X.ndim \n",
        "X.shape"
      ],
      "metadata": {
        "colab": {
          "base_uri": "https://localhost:8080/"
        },
        "id": "hX_LVYHvteZZ",
        "outputId": "d33e560a-00c6-48da-f09c-f86b04055439"
      },
      "execution_count": 39,
      "outputs": [
        {
          "output_type": "execute_result",
          "data": {
            "text/plain": [
              "(2, 3, 3)"
            ]
          },
          "metadata": {},
          "execution_count": 39
        }
      ]
    },
    {
      "cell_type": "code",
      "source": [
        "B = np.array([\n",
        "              [1,2,3],\n",
        "              [2,4,6],\n",
        "              [1,3,4]\n",
        "])\n",
        "np.linalg.det(B)"
      ],
      "metadata": {
        "colab": {
          "base_uri": "https://localhost:8080/"
        },
        "id": "L_8lsca6twAr",
        "outputId": "c3a29078-95a2-46f7-b4b8-1a4add6c358a"
      },
      "execution_count": 40,
      "outputs": [
        {
          "output_type": "execute_result",
          "data": {
            "text/plain": [
              "0.0"
            ]
          },
          "metadata": {},
          "execution_count": 40
        }
      ]
    }
  ]
}